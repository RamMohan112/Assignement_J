{
  "nbformat": 4,
  "nbformat_minor": 0,
  "metadata": {
    "colab": {
      "name": "Problem3.ipynb",
      "provenance": [],
      "collapsed_sections": [],
      "toc_visible": true,
      "authorship_tag": "ABX9TyMJdJzIeRlPGTCYki2GAzsg",
      "include_colab_link": true
    },
    "kernelspec": {
      "name": "python3",
      "display_name": "Python 3"
    },
    "accelerator": "GPU"
  },
  "cells": [
    {
      "cell_type": "markdown",
      "metadata": {
        "id": "view-in-github",
        "colab_type": "text"
      },
      "source": [
        "<a href=\"https://colab.research.google.com/github/RamMohan112/Assignement_J/blob/master/Problem3.ipynb\" target=\"_parent\"><img src=\"https://colab.research.google.com/assets/colab-badge.svg\" alt=\"Open In Colab\"/></a>"
      ]
    },
    {
      "cell_type": "code",
      "metadata": {
        "id": "8-l2n_oBtZic",
        "colab_type": "code",
        "colab": {}
      },
      "source": [
        "import os\n",
        "import tensorflow as tf\n",
        "from tensorflow.keras.optimizers import RMSprop\n",
        "from tensorflow.keras.preprocessing.image import ImageDataGenerator\n",
        "import numpy as np\n",
        "import matplotlib.pyplot as plt\n",
        "%matplotlib inline\n",
        "from tensorflow.keras.callbacks import ModelCheckpoint\n",
        "import zipfile\n",
        "import pandas as pd\n",
        "from sklearn.model_selection import train_test_split"
      ],
      "execution_count": null,
      "outputs": []
    },
    {
      "cell_type": "markdown",
      "metadata": {
        "id": "aUKJi5Ka-OX5",
        "colab_type": "text"
      },
      "source": [
        "# Get Data From Google Drive"
      ]
    },
    {
      "cell_type": "code",
      "metadata": {
        "id": "bwdTMl8M-Nwu",
        "colab_type": "code",
        "colab": {}
      },
      "source": [
        ""
      ],
      "execution_count": null,
      "outputs": []
    },
    {
      "cell_type": "code",
      "metadata": {
        "id": "gYG1qVFZuw0l",
        "colab_type": "code",
        "colab": {
          "base_uri": "https://localhost:8080/",
          "height": 118
        },
        "outputId": "f0b074b8-607c-4760-b6e9-7f4de7e40a94"
      },
      "source": [
        "# Load the Drive helper and mount\n",
        "from google.colab import drive\n",
        "\n",
        "# This will prompt for authorization.\n",
        "drive.mount('/content/drive')\n"
      ],
      "execution_count": null,
      "outputs": [
        {
          "output_type": "stream",
          "text": [
            "Go to this URL in a browser: https://accounts.google.com/o/oauth2/auth?client_id=947318989803-6bn6qk8qdgf4n4g3pfee6491hc0brc4i.apps.googleusercontent.com&redirect_uri=urn%3aietf%3awg%3aoauth%3a2.0%3aoob&response_type=code&scope=email%20https%3a%2f%2fwww.googleapis.com%2fauth%2fdocs.test%20https%3a%2f%2fwww.googleapis.com%2fauth%2fdrive%20https%3a%2f%2fwww.googleapis.com%2fauth%2fdrive.photos.readonly%20https%3a%2f%2fwww.googleapis.com%2fauth%2fpeopleapi.readonly\n",
            "\n",
            "Enter your authorization code:\n",
            "··········\n",
            "Mounted at /content/drive\n"
          ],
          "name": "stdout"
        }
      ]
    },
    {
      "cell_type": "code",
      "metadata": {
        "id": "tfJM0WmUwzlE",
        "colab_type": "code",
        "colab": {}
      },
      "source": [
        "!mkdir new_dir"
      ],
      "execution_count": null,
      "outputs": []
    },
    {
      "cell_type": "code",
      "metadata": {
        "id": "V4dJ_TDPzaz3",
        "colab_type": "code",
        "colab": {}
      },
      "source": [
        "temp_path = os.path.join(\"/content/new_dir\",\"temp/\")\n",
        "temp_path\n",
        "os.mkdir(temp_path) "
      ],
      "execution_count": null,
      "outputs": []
    },
    {
      "cell_type": "code",
      "metadata": {
        "id": "plmGkarMuyg5",
        "colab_type": "code",
        "colab": {}
      },
      "source": [
        "!cp -r \"/content/drive/My Drive/Colab Notebooks/Solution_IIT_Jodhpur/charts.zip\" new_dir"
      ],
      "execution_count": null,
      "outputs": []
    },
    {
      "cell_type": "code",
      "metadata": {
        "id": "23t_NxDzwG_e",
        "colab_type": "code",
        "colab": {}
      },
      "source": [
        "base_dir = os.path.join('/content/new_dir/')\n",
        "\n",
        "local_zip = os.path.join(base_dir,'charts.zip')\n",
        "\n",
        "zip_ref = zipfile.ZipFile(local_zip, 'r')\n",
        "\n",
        "zip_ref.extractall(os.path.join(base_dir,'temp'))"
      ],
      "execution_count": null,
      "outputs": []
    },
    {
      "cell_type": "code",
      "metadata": {
        "id": "W4s7iUiFya7w",
        "colab_type": "code",
        "colab": {}
      },
      "source": [
        "train_dir = os.path.join(base_dir + 'temp/charts/train_val/')\n",
        "train_csv = os.path.join(base_dir + 'temp/charts/train_val.csv')\n",
        "train_val_data = pd.read_csv(train_csv, dtype=str)"
      ],
      "execution_count": null,
      "outputs": []
    },
    {
      "cell_type": "markdown",
      "metadata": {
        "id": "gL5kVy-H-aLa",
        "colab_type": "text"
      },
      "source": [
        "# Process the data"
      ]
    },
    {
      "cell_type": "code",
      "metadata": {
        "id": "reUeRqxG6b92",
        "colab_type": "code",
        "colab": {
          "base_uri": "https://localhost:8080/",
          "height": 201
        },
        "outputId": "ce634cbd-e46d-4e0d-a1e4-f30c88c19ff9"
      },
      "source": [
        "train_val_data.head()"
      ],
      "execution_count": null,
      "outputs": [
        {
          "output_type": "execute_result",
          "data": {
            "text/html": [
              "<div>\n",
              "<style scoped>\n",
              "    .dataframe tbody tr th:only-of-type {\n",
              "        vertical-align: middle;\n",
              "    }\n",
              "\n",
              "    .dataframe tbody tr th {\n",
              "        vertical-align: top;\n",
              "    }\n",
              "\n",
              "    .dataframe thead th {\n",
              "        text-align: right;\n",
              "    }\n",
              "</style>\n",
              "<table border=\"1\" class=\"dataframe\">\n",
              "  <thead>\n",
              "    <tr style=\"text-align: right;\">\n",
              "      <th></th>\n",
              "      <th>image_index</th>\n",
              "      <th>type</th>\n",
              "    </tr>\n",
              "  </thead>\n",
              "  <tbody>\n",
              "    <tr>\n",
              "      <th>0</th>\n",
              "      <td>0</td>\n",
              "      <td>vbar_categorical</td>\n",
              "    </tr>\n",
              "    <tr>\n",
              "      <th>1</th>\n",
              "      <td>1</td>\n",
              "      <td>vbar_categorical</td>\n",
              "    </tr>\n",
              "    <tr>\n",
              "      <th>2</th>\n",
              "      <td>2</td>\n",
              "      <td>vbar_categorical</td>\n",
              "    </tr>\n",
              "    <tr>\n",
              "      <th>3</th>\n",
              "      <td>3</td>\n",
              "      <td>vbar_categorical</td>\n",
              "    </tr>\n",
              "    <tr>\n",
              "      <th>4</th>\n",
              "      <td>4</td>\n",
              "      <td>vbar_categorical</td>\n",
              "    </tr>\n",
              "  </tbody>\n",
              "</table>\n",
              "</div>"
            ],
            "text/plain": [
              "  image_index              type\n",
              "0           0  vbar_categorical\n",
              "1           1  vbar_categorical\n",
              "2           2  vbar_categorical\n",
              "3           3  vbar_categorical\n",
              "4           4  vbar_categorical"
            ]
          },
          "metadata": {
            "tags": []
          },
          "execution_count": 8
        }
      ]
    },
    {
      "cell_type": "code",
      "metadata": {
        "id": "oI3HCNOJx9p5",
        "colab_type": "code",
        "colab": {
          "base_uri": "https://localhost:8080/",
          "height": 32
        },
        "outputId": "01a4d033-cacc-40bc-a4f9-d697a336898b"
      },
      "source": [
        "## To check the height and width of the image before any transformation\n",
        "from PIL import Image\n",
        "test_dir = os.path.join(base_dir + 'temp/charts/test/')\n",
        "img_path = os.path.join(train_dir, '0.png')\n",
        "im = Image.open(img_path)\n",
        "width, height = im.size\n",
        "\n",
        "print(f\"Image height={height} width={width}\")"
      ],
      "execution_count": null,
      "outputs": [
        {
          "output_type": "stream",
          "text": [
            "Image height=128 width=128\n"
          ],
          "name": "stdout"
        }
      ]
    },
    {
      "cell_type": "code",
      "metadata": {
        "id": "l8RnWxto7YYa",
        "colab_type": "code",
        "colab": {
          "base_uri": "https://localhost:8080/",
          "height": 267
        },
        "outputId": "963355e4-bfb8-48e5-9a94-4a56da82aaf5"
      },
      "source": [
        "##Display an image\n",
        "\n",
        "plt.imshow(im)\n",
        "plt.show()"
      ],
      "execution_count": null,
      "outputs": [
        {
          "output_type": "display_data",
          "data": {
            "image/png": "[encoded data removed]",
            "text/plain": [
              "<Figure size 432x288 with 1 Axes>"
            ]
          },
          "metadata": {
            "tags": [],
            "needs_background": "light"
          }
        }
      ]
    },
    {
      "cell_type": "code",
      "metadata": {
        "id": "1McQj9GGzBDh",
        "colab_type": "code",
        "colab": {}
      },
      "source": [
        "## Rough check if image is grayscale or rgb\n",
        "from PIL import Image\n",
        "\n",
        "def is_grey_scale(img_path):\n",
        "\n",
        "  img = Image.open(img_path).convert('RGB')\n",
        "  w,h = img.size\n",
        "  for i in range(w):\n",
        "      for j in range(h):\n",
        "          r,g,b = img.getpixel((i,j))\n",
        "          if r != g != b: return False\n",
        "  return True"
      ],
      "execution_count": null,
      "outputs": []
    },
    {
      "cell_type": "code",
      "metadata": {
        "id": "uW-ndyNdzA37",
        "colab_type": "code",
        "colab": {
          "base_uri": "https://localhost:8080/",
          "height": 32
        },
        "outputId": "3c9a0ffc-731c-4d5f-888e-360637d89f9f"
      },
      "source": [
        "is_grey_scale(img_path) ## Means not a greyscale image"
      ],
      "execution_count": null,
      "outputs": [
        {
          "output_type": "execute_result",
          "data": {
            "text/plain": [
              "False"
            ]
          },
          "metadata": {
            "tags": []
          },
          "execution_count": 12
        }
      ]
    },
    {
      "cell_type": "code",
      "metadata": {
        "id": "rfxflMBK6eSL",
        "colab_type": "code",
        "colab": {}
      },
      "source": [
        "## Append Extension Name to every item in the dataframe column\n",
        "\n",
        "def append_ext(fn):\n",
        "    return fn+\".png\"\n",
        "\n",
        "train_val_data[\"image_index\"]=train_val_data[\"image_index\"].apply(append_ext)"
      ],
      "execution_count": null,
      "outputs": []
    },
    {
      "cell_type": "code",
      "metadata": {
        "id": "YaC_6y0JvXJs",
        "colab_type": "code",
        "colab": {}
      },
      "source": [
        ""
      ],
      "execution_count": null,
      "outputs": []
    },
    {
      "cell_type": "code",
      "metadata": {
        "id": "-TPP4TGYv4iz",
        "colab_type": "code",
        "colab": {
          "base_uri": "https://localhost:8080/",
          "height": 201
        },
        "outputId": "cb9fae2d-442a-46b3-ccf7-6b511c964a14"
      },
      "source": [
        "train_val_data.head()"
      ],
      "execution_count": null,
      "outputs": [
        {
          "output_type": "execute_result",
          "data": {
            "text/html": [
              "<div>\n",
              "<style scoped>\n",
              "    .dataframe tbody tr th:only-of-type {\n",
              "        vertical-align: middle;\n",
              "    }\n",
              "\n",
              "    .dataframe tbody tr th {\n",
              "        vertical-align: top;\n",
              "    }\n",
              "\n",
              "    .dataframe thead th {\n",
              "        text-align: right;\n",
              "    }\n",
              "</style>\n",
              "<table border=\"1\" class=\"dataframe\">\n",
              "  <thead>\n",
              "    <tr style=\"text-align: right;\">\n",
              "      <th></th>\n",
              "      <th>image_index</th>\n",
              "      <th>type</th>\n",
              "    </tr>\n",
              "  </thead>\n",
              "  <tbody>\n",
              "    <tr>\n",
              "      <th>0</th>\n",
              "      <td>0.png</td>\n",
              "      <td>vbar_categorical</td>\n",
              "    </tr>\n",
              "    <tr>\n",
              "      <th>1</th>\n",
              "      <td>1.png</td>\n",
              "      <td>vbar_categorical</td>\n",
              "    </tr>\n",
              "    <tr>\n",
              "      <th>2</th>\n",
              "      <td>2.png</td>\n",
              "      <td>vbar_categorical</td>\n",
              "    </tr>\n",
              "    <tr>\n",
              "      <th>3</th>\n",
              "      <td>3.png</td>\n",
              "      <td>vbar_categorical</td>\n",
              "    </tr>\n",
              "    <tr>\n",
              "      <th>4</th>\n",
              "      <td>4.png</td>\n",
              "      <td>vbar_categorical</td>\n",
              "    </tr>\n",
              "  </tbody>\n",
              "</table>\n",
              "</div>"
            ],
            "text/plain": [
              "  image_index              type\n",
              "0       0.png  vbar_categorical\n",
              "1       1.png  vbar_categorical\n",
              "2       2.png  vbar_categorical\n",
              "3       3.png  vbar_categorical\n",
              "4       4.png  vbar_categorical"
            ]
          },
          "metadata": {
            "tags": []
          },
          "execution_count": 14
        }
      ]
    },
    {
      "cell_type": "markdown",
      "metadata": {
        "id": "emQ16AYHGWjk",
        "colab_type": "text"
      },
      "source": [
        "### Split Data for All Classes Equally in Training and Validation"
      ]
    },
    {
      "cell_type": "code",
      "metadata": {
        "id": "x_0rTXDKGxp1",
        "colab_type": "code",
        "colab": {
          "base_uri": "https://localhost:8080/",
          "height": 32
        },
        "outputId": "1703fc18-a629-4a10-f57f-5990a8a492f8"
      },
      "source": [
        "labels = np.unique(train_val_data['type']).tolist()\n",
        "labels"
      ],
      "execution_count": null,
      "outputs": [
        {
          "output_type": "execute_result",
          "data": {
            "text/plain": [
              "['dot_line', 'hbar_categorical', 'line', 'pie', 'vbar_categorical']"
            ]
          },
          "metadata": {
            "tags": []
          },
          "execution_count": 15
        }
      ]
    },
    {
      "cell_type": "code",
      "metadata": {
        "id": "ijLVmMxrGdz8",
        "colab_type": "code",
        "colab": {
          "base_uri": "https://localhost:8080/",
          "height": 411
        },
        "outputId": "0e5056ef-322b-4565-e197-bae901bdf3d1"
      },
      "source": [
        "## To select all samples conatining one label\n",
        "train_val_data.loc[train_val_data['type'] == 'dot_line']"
      ],
      "execution_count": null,
      "outputs": [
        {
          "output_type": "execute_result",
          "data": {
            "text/html": [
              "<div>\n",
              "<style scoped>\n",
              "    .dataframe tbody tr th:only-of-type {\n",
              "        vertical-align: middle;\n",
              "    }\n",
              "\n",
              "    .dataframe tbody tr th {\n",
              "        vertical-align: top;\n",
              "    }\n",
              "\n",
              "    .dataframe thead th {\n",
              "        text-align: right;\n",
              "    }\n",
              "</style>\n",
              "<table border=\"1\" class=\"dataframe\">\n",
              "  <thead>\n",
              "    <tr style=\"text-align: right;\">\n",
              "      <th></th>\n",
              "      <th>image_index</th>\n",
              "      <th>type</th>\n",
              "    </tr>\n",
              "  </thead>\n",
              "  <tbody>\n",
              "    <tr>\n",
              "      <th>800</th>\n",
              "      <td>800.png</td>\n",
              "      <td>dot_line</td>\n",
              "    </tr>\n",
              "    <tr>\n",
              "      <th>801</th>\n",
              "      <td>801.png</td>\n",
              "      <td>dot_line</td>\n",
              "    </tr>\n",
              "    <tr>\n",
              "      <th>802</th>\n",
              "      <td>802.png</td>\n",
              "      <td>dot_line</td>\n",
              "    </tr>\n",
              "    <tr>\n",
              "      <th>803</th>\n",
              "      <td>803.png</td>\n",
              "      <td>dot_line</td>\n",
              "    </tr>\n",
              "    <tr>\n",
              "      <th>804</th>\n",
              "      <td>804.png</td>\n",
              "      <td>dot_line</td>\n",
              "    </tr>\n",
              "    <tr>\n",
              "      <th>...</th>\n",
              "      <td>...</td>\n",
              "      <td>...</td>\n",
              "    </tr>\n",
              "    <tr>\n",
              "      <th>995</th>\n",
              "      <td>995.png</td>\n",
              "      <td>dot_line</td>\n",
              "    </tr>\n",
              "    <tr>\n",
              "      <th>996</th>\n",
              "      <td>996.png</td>\n",
              "      <td>dot_line</td>\n",
              "    </tr>\n",
              "    <tr>\n",
              "      <th>997</th>\n",
              "      <td>997.png</td>\n",
              "      <td>dot_line</td>\n",
              "    </tr>\n",
              "    <tr>\n",
              "      <th>998</th>\n",
              "      <td>998.png</td>\n",
              "      <td>dot_line</td>\n",
              "    </tr>\n",
              "    <tr>\n",
              "      <th>999</th>\n",
              "      <td>999.png</td>\n",
              "      <td>dot_line</td>\n",
              "    </tr>\n",
              "  </tbody>\n",
              "</table>\n",
              "<p>200 rows × 2 columns</p>\n",
              "</div>"
            ],
            "text/plain": [
              "    image_index      type\n",
              "800     800.png  dot_line\n",
              "801     801.png  dot_line\n",
              "802     802.png  dot_line\n",
              "803     803.png  dot_line\n",
              "804     804.png  dot_line\n",
              "..          ...       ...\n",
              "995     995.png  dot_line\n",
              "996     996.png  dot_line\n",
              "997     997.png  dot_line\n",
              "998     998.png  dot_line\n",
              "999     999.png  dot_line\n",
              "\n",
              "[200 rows x 2 columns]"
            ]
          },
          "metadata": {
            "tags": []
          },
          "execution_count": 16
        }
      ]
    },
    {
      "cell_type": "code",
      "metadata": {
        "id": "FzILxGbxGduf",
        "colab_type": "code",
        "colab": {}
      },
      "source": [
        ""
      ],
      "execution_count": null,
      "outputs": []
    },
    {
      "cell_type": "code",
      "metadata": {
        "id": "td1qSXtLTPy0",
        "colab_type": "code",
        "colab": {}
      },
      "source": [
        ""
      ],
      "execution_count": null,
      "outputs": []
    },
    {
      "cell_type": "code",
      "metadata": {
        "id": "YKs6iZCSa1_b",
        "colab_type": "code",
        "colab": {}
      },
      "source": [
        ""
      ],
      "execution_count": null,
      "outputs": []
    },
    {
      "cell_type": "code",
      "metadata": {
        "id": "OWiX77KWTcoq",
        "colab_type": "code",
        "colab": {
          "base_uri": "https://localhost:8080/",
          "height": 98
        },
        "outputId": "d939c524-d696-4c56-f93a-73d841fe33ca"
      },
      "source": [
        "## Splitting Training And Validation Data for each class to have a balanced distribution\n",
        "\n",
        "train_l = []\n",
        "val_l = []\n",
        "\n",
        "\n",
        "for i in labels:\n",
        "  \n",
        "  temp_df = train_val_data.loc[train_val_data['type'] == i].copy()\n",
        "\n",
        "  train_class, val_class = train_test_split(temp_df, test_size=0.2, train_size=0.8, random_state=42)\n",
        "  \n",
        "\n",
        "  print(f\"temp_df = {temp_df.shape} \\t train_class = {train_class.shape}  \\t val_class = {val_class.shape}\")\n",
        "\n",
        "  train_l.append(train_class)\n",
        "  val_l.append(val_class)\n",
        "\n",
        "\n",
        "  \n",
        "  \n"
      ],
      "execution_count": null,
      "outputs": [
        {
          "output_type": "stream",
          "text": [
            "temp_df = (200, 2) \t train_class = (160, 2)  \t val_class = (40, 2)\n",
            "temp_df = (200, 2) \t train_class = (160, 2)  \t val_class = (40, 2)\n",
            "temp_df = (200, 2) \t train_class = (160, 2)  \t val_class = (40, 2)\n",
            "temp_df = (200, 2) \t train_class = (160, 2)  \t val_class = (40, 2)\n",
            "temp_df = (200, 2) \t train_class = (160, 2)  \t val_class = (40, 2)\n"
          ],
          "name": "stdout"
        }
      ]
    },
    {
      "cell_type": "code",
      "metadata": {
        "id": "NM8RwVsHjp7V",
        "colab_type": "code",
        "colab": {
          "base_uri": "https://localhost:8080/",
          "height": 32
        },
        "outputId": "91bacc1a-370c-46d1-c98d-99b48a50ebba"
      },
      "source": [
        "train_df = pd.concat(train_l)\n",
        "val_df = pd.concat(val_l)\n",
        "\n",
        "print(f\"Final Shapes - Train data={train_df.shape}  Val data={val_df.shape} \")"
      ],
      "execution_count": null,
      "outputs": [
        {
          "output_type": "stream",
          "text": [
            "Final Shapes - Train data=(800, 2)  Val data=(200, 2) \n"
          ],
          "name": "stdout"
        }
      ]
    },
    {
      "cell_type": "code",
      "metadata": {
        "id": "juIPNi5BjwgD",
        "colab_type": "code",
        "colab": {}
      },
      "source": [
        ""
      ],
      "execution_count": null,
      "outputs": []
    },
    {
      "cell_type": "code",
      "metadata": {
        "id": "jqcJtR8LgVLo",
        "colab_type": "code",
        "colab": {}
      },
      "source": [
        ""
      ],
      "execution_count": null,
      "outputs": []
    },
    {
      "cell_type": "markdown",
      "metadata": {
        "id": "eb3PLfUzBj5Q",
        "colab_type": "text"
      },
      "source": [
        "#Creating Data Pipeline"
      ]
    },
    {
      "cell_type": "code",
      "metadata": {
        "id": "5TgGNunzv6aH",
        "colab_type": "code",
        "colab": {}
      },
      "source": [
        "datagen=ImageDataGenerator(rescale=1./255.)"
      ],
      "execution_count": null,
      "outputs": []
    },
    {
      "cell_type": "code",
      "metadata": {
        "id": "4UaNtNQIwFXB",
        "colab_type": "code",
        "colab": {
          "base_uri": "https://localhost:8080/",
          "height": 32
        },
        "outputId": "75fd5e0f-648a-4f7e-bd91-bb2c39dd0a54"
      },
      "source": [
        "train_generator=datagen.flow_from_dataframe(\n",
        "dataframe=train_df,\n",
        "directory=train_dir,\n",
        "x_col=\"image_index\",\n",
        "y_col=\"type\",\n",
        "batch_size=20,\n",
        "shuffle = True,\n",
        "target_size=(128, 128),\n",
        "seed = 42,\n",
        "class_mode=\"categorical\",\n",
        ")"
      ],
      "execution_count": null,
      "outputs": [
        {
          "output_type": "stream",
          "text": [
            "Found 800 validated image filenames belonging to 5 classes.\n"
          ],
          "name": "stdout"
        }
      ]
    },
    {
      "cell_type": "code",
      "metadata": {
        "id": "YFS8AECQzLi-",
        "colab_type": "code",
        "colab": {
          "base_uri": "https://localhost:8080/",
          "height": 32
        },
        "outputId": "73add173-8cb1-4784-beef-e07dd937dcc1"
      },
      "source": [
        "validation_generator=datagen.flow_from_dataframe(\n",
        "dataframe=val_df,\n",
        "directory=train_dir,\n",
        "x_col=\"image_index\",\n",
        "y_col=\"type\",\n",
        "batch_size=20,\n",
        "target_size=(128, 128),\n",
        "seed = 42,\n",
        "class_mode=\"categorical\",\n",
        ")"
      ],
      "execution_count": null,
      "outputs": [
        {
          "output_type": "stream",
          "text": [
            "Found 200 validated image filenames belonging to 5 classes.\n"
          ],
          "name": "stdout"
        }
      ]
    },
    {
      "cell_type": "code",
      "metadata": {
        "id": "Y5ZDuhHTzaWr",
        "colab_type": "code",
        "colab": {
          "base_uri": "https://localhost:8080/",
          "height": 283
        },
        "outputId": "bdbc8b67-c857-42b9-ddb7-bf3a4d4e9651"
      },
      "source": [
        "#Generating an image after transofrmation\n",
        "\n",
        "temp_x = train_generator._get_batches_of_transformed_samples([200])[0]       # choosing only data point at index 1\n",
        "temp_y = train_generator._get_batches_of_transformed_samples([200])[1]\n",
        "\n",
        "plt.imshow(temp_x[0])\n",
        "\n",
        "print(\"Label = {}\".format(temp_y))\n"
      ],
      "execution_count": null,
      "outputs": [
        {
          "output_type": "stream",
          "text": [
            "Label = [[0. 1. 0. 0. 0.]]\n"
          ],
          "name": "stdout"
        },
        {
          "output_type": "display_data",
          "data": {
            "image/png": "[encoded data removed]",
            "text/plain": [
              "<Figure size 432x288 with 1 Axes>"
            ]
          },
          "metadata": {
            "tags": [],
            "needs_background": "light"
          }
        }
      ]
    },
    {
      "cell_type": "code",
      "metadata": {
        "id": "IfW5zl6t1BN4",
        "colab_type": "code",
        "colab": {
          "base_uri": "https://localhost:8080/",
          "height": 32
        },
        "outputId": "5daece6e-21a8-4441-f0be-910a903ef8ca"
      },
      "source": [
        "temp_x[0].shape"
      ],
      "execution_count": null,
      "outputs": [
        {
          "output_type": "execute_result",
          "data": {
            "text/plain": [
              "(128, 128, 3)"
            ]
          },
          "metadata": {
            "tags": []
          },
          "execution_count": 71
        }
      ]
    },
    {
      "cell_type": "code",
      "metadata": {
        "id": "5BMuTDp34Oqf",
        "colab_type": "code",
        "colab": {}
      },
      "source": [
        ""
      ],
      "execution_count": null,
      "outputs": []
    },
    {
      "cell_type": "code",
      "metadata": {
        "id": "UYxVJHm0CW_W",
        "colab_type": "code",
        "colab": {}
      },
      "source": [
        ""
      ],
      "execution_count": null,
      "outputs": []
    },
    {
      "cell_type": "markdown",
      "metadata": {
        "id": "osmZIiJOCUp4",
        "colab_type": "text"
      },
      "source": [
        "# Create Model"
      ]
    },
    {
      "cell_type": "markdown",
      "metadata": {
        "id": "Lgk0yG4oQSyA",
        "colab_type": "text"
      },
      "source": [
        "## 2 Layer Convolution Model"
      ]
    },
    {
      "cell_type": "code",
      "metadata": {
        "id": "zbbxjApgCUFg",
        "colab_type": "code",
        "colab": {}
      },
      "source": [
        "conv_model = tf.keras.models.Sequential([\n",
        "                                         tf.keras.layers.Conv2D(16, (3,3), activation='relu', padding='same', input_shape=(128,128,3)),\n",
        "                                         tf.keras.layers.MaxPooling2D((2, 2)),\n",
        "                                         tf.keras.layers.Conv2D(32, (3,3), activation='relu', padding='same'),\n",
        "                                         tf.keras.layers.MaxPooling2D((2, 2)),\n",
        "                                         tf.keras.layers.Flatten(),\n",
        "                                         tf.keras.layers.Dense(64, activation='relu'),\n",
        "                                         tf.keras.layers.Dense(5, activation='softmax')\n",
        "                                         \n",
        "])"
      ],
      "execution_count": null,
      "outputs": []
    },
    {
      "cell_type": "code",
      "metadata": {
        "id": "35hnqAzTHQZG",
        "colab_type": "code",
        "colab": {}
      },
      "source": [
        "conv_model.compile(optimizer = tf.keras.optimizers.Adam(learning_rate=0.0001),\n",
        "              loss = 'categorical_crossentropy',\n",
        "              metrics=['accuracy'])"
      ],
      "execution_count": null,
      "outputs": []
    },
    {
      "cell_type": "code",
      "metadata": {
        "id": "aDl0R5ogIXLS",
        "colab_type": "code",
        "colab": {
          "base_uri": "https://localhost:8080/",
          "height": 32
        },
        "outputId": "2a224a13-6446-4084-dae0-e73c95352ac9"
      },
      "source": [
        "conv_model.output"
      ],
      "execution_count": null,
      "outputs": [
        {
          "output_type": "execute_result",
          "data": {
            "text/plain": [
              "<tf.Tensor 'dense_27/Identity:0' shape=(None, 5) dtype=float32>"
            ]
          },
          "metadata": {
            "tags": []
          },
          "execution_count": 105
        }
      ]
    },
    {
      "cell_type": "code",
      "metadata": {
        "id": "sPqYp0aNHSWu",
        "colab_type": "code",
        "colab": {
          "base_uri": "https://localhost:8080/",
          "height": 1000
        },
        "outputId": "920d5c28-1cf2-41d6-cddd-44aa8000afea"
      },
      "source": [
        "history_conv = conv_model.fit(train_generator, validation_data=validation_generator, epochs=40)"
      ],
      "execution_count": null,
      "outputs": [
        {
          "output_type": "stream",
          "text": [
            "Epoch 1/40\n",
            "40/40 [==============================] - 1s 26ms/step - loss: 0.0069 - accuracy: 1.0000 - val_loss: 0.0594 - val_accuracy: 0.9800\n",
            "Epoch 2/40\n",
            "40/40 [==============================] - 1s 25ms/step - loss: 0.0046 - accuracy: 1.0000 - val_loss: 0.0608 - val_accuracy: 0.9750\n",
            "Epoch 3/40\n",
            "40/40 [==============================] - 1s 24ms/step - loss: 0.0038 - accuracy: 1.0000 - val_loss: 0.0618 - val_accuracy: 0.9750\n",
            "Epoch 4/40\n",
            "40/40 [==============================] - 1s 24ms/step - loss: 0.0033 - accuracy: 1.0000 - val_loss: 0.0878 - val_accuracy: 0.9550\n",
            "Epoch 5/40\n",
            "40/40 [==============================] - 1s 24ms/step - loss: 0.0044 - accuracy: 1.0000 - val_loss: 0.0570 - val_accuracy: 0.9850\n",
            "Epoch 6/40\n",
            "40/40 [==============================] - 1s 24ms/step - loss: 0.0026 - accuracy: 1.0000 - val_loss: 0.0556 - val_accuracy: 0.9850\n",
            "Epoch 7/40\n",
            "40/40 [==============================] - 1s 24ms/step - loss: 0.0023 - accuracy: 1.0000 - val_loss: 0.0653 - val_accuracy: 0.9750\n",
            "Epoch 8/40\n",
            "40/40 [==============================] - 1s 24ms/step - loss: 0.0019 - accuracy: 1.0000 - val_loss: 0.0725 - val_accuracy: 0.9650\n",
            "Epoch 9/40\n",
            "40/40 [==============================] - 1s 24ms/step - loss: 0.0017 - accuracy: 1.0000 - val_loss: 0.0563 - val_accuracy: 0.9800\n",
            "Epoch 10/40\n",
            "40/40 [==============================] - 1s 24ms/step - loss: 0.0018 - accuracy: 1.0000 - val_loss: 0.0512 - val_accuracy: 0.9850\n",
            "Epoch 11/40\n",
            "40/40 [==============================] - 1s 24ms/step - loss: 0.0015 - accuracy: 1.0000 - val_loss: 0.0533 - val_accuracy: 0.9900\n",
            "Epoch 12/40\n",
            "40/40 [==============================] - 1s 24ms/step - loss: 0.0012 - accuracy: 1.0000 - val_loss: 0.0540 - val_accuracy: 0.9800\n",
            "Epoch 13/40\n",
            "40/40 [==============================] - 1s 24ms/step - loss: 0.0012 - accuracy: 1.0000 - val_loss: 0.0626 - val_accuracy: 0.9750\n",
            "Epoch 14/40\n",
            "40/40 [==============================] - 1s 24ms/step - loss: 0.0012 - accuracy: 1.0000 - val_loss: 0.0649 - val_accuracy: 0.9700\n",
            "Epoch 15/40\n",
            "40/40 [==============================] - 1s 24ms/step - loss: 9.9896e-04 - accuracy: 1.0000 - val_loss: 0.0514 - val_accuracy: 0.9850\n",
            "Epoch 16/40\n",
            "40/40 [==============================] - 1s 25ms/step - loss: 9.2801e-04 - accuracy: 1.0000 - val_loss: 0.0543 - val_accuracy: 0.9850\n",
            "Epoch 17/40\n",
            "40/40 [==============================] - 1s 24ms/step - loss: 8.7846e-04 - accuracy: 1.0000 - val_loss: 0.0588 - val_accuracy: 0.9800\n",
            "Epoch 18/40\n",
            "40/40 [==============================] - 1s 24ms/step - loss: 8.2473e-04 - accuracy: 1.0000 - val_loss: 0.0541 - val_accuracy: 0.9850\n",
            "Epoch 19/40\n",
            "40/40 [==============================] - 1s 24ms/step - loss: 7.3332e-04 - accuracy: 1.0000 - val_loss: 0.0580 - val_accuracy: 0.9800\n",
            "Epoch 20/40\n",
            "40/40 [==============================] - 1s 24ms/step - loss: 6.7282e-04 - accuracy: 1.0000 - val_loss: 0.0522 - val_accuracy: 0.9850\n",
            "Epoch 21/40\n",
            "40/40 [==============================] - 1s 25ms/step - loss: 7.3607e-04 - accuracy: 1.0000 - val_loss: 0.0590 - val_accuracy: 0.9750\n",
            "Epoch 22/40\n",
            "40/40 [==============================] - 1s 24ms/step - loss: 5.7774e-04 - accuracy: 1.0000 - val_loss: 0.0621 - val_accuracy: 0.9750\n",
            "Epoch 23/40\n",
            "40/40 [==============================] - 1s 24ms/step - loss: 5.3468e-04 - accuracy: 1.0000 - val_loss: 0.0587 - val_accuracy: 0.9800\n",
            "Epoch 24/40\n",
            "40/40 [==============================] - 1s 24ms/step - loss: 6.7407e-04 - accuracy: 1.0000 - val_loss: 0.0504 - val_accuracy: 0.9800\n",
            "Epoch 25/40\n",
            "40/40 [==============================] - 1s 24ms/step - loss: 6.7970e-04 - accuracy: 1.0000 - val_loss: 0.0515 - val_accuracy: 0.9900\n",
            "Epoch 26/40\n",
            "40/40 [==============================] - 1s 24ms/step - loss: 4.7010e-04 - accuracy: 1.0000 - val_loss: 0.0605 - val_accuracy: 0.9800\n",
            "Epoch 27/40\n",
            "40/40 [==============================] - 1s 24ms/step - loss: 4.0252e-04 - accuracy: 1.0000 - val_loss: 0.0566 - val_accuracy: 0.9800\n",
            "Epoch 28/40\n",
            "40/40 [==============================] - 1s 24ms/step - loss: 3.8548e-04 - accuracy: 1.0000 - val_loss: 0.0576 - val_accuracy: 0.9800\n",
            "Epoch 29/40\n",
            "40/40 [==============================] - 1s 24ms/step - loss: 3.6946e-04 - accuracy: 1.0000 - val_loss: 0.0541 - val_accuracy: 0.9800\n",
            "Epoch 30/40\n",
            "40/40 [==============================] - 1s 24ms/step - loss: 3.3995e-04 - accuracy: 1.0000 - val_loss: 0.0541 - val_accuracy: 0.9800\n",
            "Epoch 31/40\n",
            "40/40 [==============================] - 1s 24ms/step - loss: 3.0969e-04 - accuracy: 1.0000 - val_loss: 0.0573 - val_accuracy: 0.9800\n",
            "Epoch 32/40\n",
            "40/40 [==============================] - 1s 25ms/step - loss: 2.7326e-04 - accuracy: 1.0000 - val_loss: 0.0517 - val_accuracy: 0.9900\n",
            "Epoch 33/40\n",
            "40/40 [==============================] - 1s 24ms/step - loss: 2.8468e-04 - accuracy: 1.0000 - val_loss: 0.0515 - val_accuracy: 0.9900\n",
            "Epoch 34/40\n",
            "40/40 [==============================] - 1s 24ms/step - loss: 2.7686e-04 - accuracy: 1.0000 - val_loss: 0.0535 - val_accuracy: 0.9850\n",
            "Epoch 35/40\n",
            "40/40 [==============================] - 1s 24ms/step - loss: 2.3918e-04 - accuracy: 1.0000 - val_loss: 0.0602 - val_accuracy: 0.9800\n",
            "Epoch 36/40\n",
            "40/40 [==============================] - 1s 25ms/step - loss: 2.3249e-04 - accuracy: 1.0000 - val_loss: 0.0665 - val_accuracy: 0.9700\n",
            "Epoch 37/40\n",
            "40/40 [==============================] - 1s 25ms/step - loss: 2.5388e-04 - accuracy: 1.0000 - val_loss: 0.0545 - val_accuracy: 0.9800\n",
            "Epoch 38/40\n",
            "40/40 [==============================] - 1s 24ms/step - loss: 2.2259e-04 - accuracy: 1.0000 - val_loss: 0.0556 - val_accuracy: 0.9800\n",
            "Epoch 39/40\n",
            "40/40 [==============================] - 1s 24ms/step - loss: 2.0056e-04 - accuracy: 1.0000 - val_loss: 0.0520 - val_accuracy: 0.9900\n",
            "Epoch 40/40\n",
            "40/40 [==============================] - 1s 24ms/step - loss: 1.9528e-04 - accuracy: 1.0000 - val_loss: 0.0520 - val_accuracy: 0.9850\n"
          ],
          "name": "stdout"
        }
      ]
    },
    {
      "cell_type": "code",
      "metadata": {
        "id": "UkRWMPBiSrWI",
        "colab_type": "code",
        "colab": {
          "base_uri": "https://localhost:8080/",
          "height": 560
        },
        "outputId": "65cb4400-68d2-4b06-f242-d211086c7306"
      },
      "source": [
        "##PLots\n",
        "\n",
        "acc=history_conv.history['accuracy']\n",
        "val_acc=history_conv.history['val_accuracy']\n",
        "loss=history_conv.history['loss']\n",
        "val_loss=history_conv.history['val_loss']\n",
        "\n",
        "epochs=range(len(acc))\n",
        "\n",
        "\n",
        "# Plot training and validation accuracy per epoch\n",
        "\n",
        "plt.plot(epochs, acc, 'r',label='Training')\n",
        "plt.plot(epochs, val_acc, 'b',label='Validation')\n",
        "plt.title('Training and validation accuracy')\n",
        "plt.legend(loc='right')\n",
        "plt.figure()\n",
        "\n",
        "\n",
        "\n",
        "# Plot training and validation loss per epoch\n",
        "\n",
        "plt.plot(epochs, loss, 'r', label='Training')\n",
        "plt.plot(epochs, val_loss, 'b', label='Validation ')\n",
        "plt.legend(loc='right')\n",
        "plt.title('Training and validation loss')"
      ],
      "execution_count": null,
      "outputs": [
        {
          "output_type": "execute_result",
          "data": {
            "text/plain": [
              "Text(0.5, 1.0, 'Training and validation loss')"
            ]
          },
          "metadata": {
            "tags": []
          },
          "execution_count": 107
        },
        {
          "output_type": "display_data",
          "data": {
            "image/png": "[encoded data removed]",
            "text/plain": [
              "<Figure size 432x288 with 1 Axes>"
            ]
          },
          "metadata": {
            "tags": [],
            "needs_background": "light"
          }
        },
        {
          "output_type": "display_data",
          "data": {
            "image/png": "[encoded data removed]",
            "text/plain": [
              "<Figure size 432x288 with 1 Axes>"
            ]
          },
          "metadata": {
            "tags": [],
            "needs_background": "light"
          }
        }
      ]
    },
    {
      "cell_type": "code",
      "metadata": {
        "id": "KUAed-ieUOHO",
        "colab_type": "code",
        "colab": {
          "base_uri": "https://localhost:8080/",
          "height": 82
        },
        "outputId": "47b9708b-040f-4c3c-b85d-89ed73f5f5dc"
      },
      "source": [
        "## Loss and Accuracy on Train Set\n",
        "results = conv_model.evaluate(train_generator)\n",
        "loss = results[0]\n",
        "accuracy = results[1]\n",
        "\n",
        "print(f\" For Training loss = {loss},  acc = {accuracy}\")\n",
        "\n",
        "results_2 = conv_model.evaluate(validation_generator)\n",
        "loss_2 = results_2[0]\n",
        "accuracy_2 = results_2[1]\n",
        "\n",
        "print(f\" For Validation  loss = {loss_2},  acc = {accuracy_2}\")"
      ],
      "execution_count": null,
      "outputs": [
        {
          "output_type": "stream",
          "text": [
            "40/40 [==============================] - 1s 17ms/step - loss: 1.8006e-04 - accuracy: 1.0000\n",
            " For Training loss = 0.00018005551828537136,  acc = 1.0\n",
            "10/10 [==============================] - 0s 16ms/step - loss: 0.0520 - accuracy: 0.9850\n",
            " For Validation  loss = 0.052029985934495926,  acc = 0.9850000143051147\n"
          ],
          "name": "stdout"
        }
      ]
    },
    {
      "cell_type": "markdown",
      "metadata": {
        "id": "W2nwRtVoHaKC",
        "colab_type": "text"
      },
      "source": [
        ""
      ]
    },
    {
      "cell_type": "markdown",
      "metadata": {
        "id": "SDXzK3HnQZQ9",
        "colab_type": "text"
      },
      "source": [
        "## Simple Dense Model"
      ]
    },
    {
      "cell_type": "code",
      "metadata": {
        "id": "g3OTcmT24TQp",
        "colab_type": "code",
        "colab": {}
      },
      "source": [
        "dense_model = tf.keras.models.Sequential([tf.keras.layers.Flatten(), \n",
        "                                    tf.keras.layers.Dense(1024, activation=tf.nn.relu),\n",
        "                                    tf.keras.layers.Dense(512, activation=tf.nn.relu),\n",
        "                                    tf.keras.layers.Dense(64, activation=tf.nn.relu),\n",
        "                                    tf.keras.layers.Dense(5, activation=tf.nn.softmax)])"
      ],
      "execution_count": null,
      "outputs": []
    },
    {
      "cell_type": "code",
      "metadata": {
        "id": "euC05tOIg_az",
        "colab_type": "code",
        "colab": {}
      },
      "source": [
        "dense_model.compile(optimizer = tf.keras.optimizers.Adam(learning_rate=0.0001),\n",
        "              loss = 'categorical_crossentropy',\n",
        "              metrics=['accuracy'])"
      ],
      "execution_count": null,
      "outputs": []
    },
    {
      "cell_type": "code",
      "metadata": {
        "id": "s2g5FDxPhBde",
        "colab_type": "code",
        "colab": {
          "base_uri": "https://localhost:8080/",
          "height": 1000
        },
        "outputId": "585d8607-b1a6-42e8-ecb6-78df0beb960e"
      },
      "source": [
        "history_dense = dense_model.fit(train_generator, validation_data=validation_generator , epochs=40)"
      ],
      "execution_count": null,
      "outputs": [
        {
          "output_type": "stream",
          "text": [
            "Epoch 1/40\n",
            "40/40 [==============================] - 1s 28ms/step - loss: 2.5595 - accuracy: 0.2875 - val_loss: 1.2932 - val_accuracy: 0.4050\n",
            "Epoch 2/40\n",
            "40/40 [==============================] - 1s 26ms/step - loss: 1.2749 - accuracy: 0.4950 - val_loss: 0.7628 - val_accuracy: 0.6900\n",
            "Epoch 3/40\n",
            "40/40 [==============================] - 1s 25ms/step - loss: 0.7407 - accuracy: 0.6850 - val_loss: 0.6415 - val_accuracy: 0.7350\n",
            "Epoch 4/40\n",
            "40/40 [==============================] - 1s 25ms/step - loss: 0.9603 - accuracy: 0.7188 - val_loss: 0.8602 - val_accuracy: 0.6950\n",
            "Epoch 5/40\n",
            "40/40 [==============================] - 1s 25ms/step - loss: 0.6477 - accuracy: 0.7275 - val_loss: 0.4730 - val_accuracy: 0.7850\n",
            "Epoch 6/40\n",
            "40/40 [==============================] - 1s 25ms/step - loss: 0.5216 - accuracy: 0.7600 - val_loss: 0.7066 - val_accuracy: 0.7000\n",
            "Epoch 7/40\n",
            "40/40 [==============================] - 1s 25ms/step - loss: 0.6320 - accuracy: 0.7312 - val_loss: 0.9495 - val_accuracy: 0.7850\n",
            "Epoch 8/40\n",
            "40/40 [==============================] - 1s 25ms/step - loss: 0.5671 - accuracy: 0.7837 - val_loss: 0.4700 - val_accuracy: 0.7650\n",
            "Epoch 9/40\n",
            "40/40 [==============================] - 1s 25ms/step - loss: 0.5346 - accuracy: 0.7750 - val_loss: 0.3659 - val_accuracy: 0.8400\n",
            "Epoch 10/40\n",
            "40/40 [==============================] - 1s 25ms/step - loss: 0.4778 - accuracy: 0.7975 - val_loss: 1.0738 - val_accuracy: 0.7000\n",
            "Epoch 11/40\n",
            "40/40 [==============================] - 1s 25ms/step - loss: 0.4740 - accuracy: 0.7837 - val_loss: 0.5814 - val_accuracy: 0.7900\n",
            "Epoch 12/40\n",
            "40/40 [==============================] - 1s 25ms/step - loss: 0.3886 - accuracy: 0.8250 - val_loss: 0.9102 - val_accuracy: 0.7900\n",
            "Epoch 13/40\n",
            "40/40 [==============================] - 1s 25ms/step - loss: 0.4688 - accuracy: 0.7912 - val_loss: 0.3484 - val_accuracy: 0.8050\n",
            "Epoch 14/40\n",
            "40/40 [==============================] - 1s 25ms/step - loss: 0.4676 - accuracy: 0.7862 - val_loss: 0.3479 - val_accuracy: 0.7900\n",
            "Epoch 15/40\n",
            "40/40 [==============================] - 1s 25ms/step - loss: 0.3680 - accuracy: 0.7950 - val_loss: 0.3318 - val_accuracy: 0.7950\n",
            "Epoch 16/40\n",
            "40/40 [==============================] - 1s 25ms/step - loss: 0.6044 - accuracy: 0.7775 - val_loss: 1.0009 - val_accuracy: 0.6200\n",
            "Epoch 17/40\n",
            "40/40 [==============================] - 1s 25ms/step - loss: 0.4247 - accuracy: 0.8000 - val_loss: 0.4644 - val_accuracy: 0.7900\n",
            "Epoch 18/40\n",
            "40/40 [==============================] - 1s 25ms/step - loss: 0.3581 - accuracy: 0.8125 - val_loss: 0.4142 - val_accuracy: 0.7900\n",
            "Epoch 19/40\n",
            "40/40 [==============================] - 1s 25ms/step - loss: 0.3903 - accuracy: 0.8012 - val_loss: 0.3332 - val_accuracy: 0.8000\n",
            "Epoch 20/40\n",
            "40/40 [==============================] - 1s 30ms/step - loss: 0.3640 - accuracy: 0.8138 - val_loss: 0.4599 - val_accuracy: 0.7950\n",
            "Epoch 21/40\n",
            "40/40 [==============================] - 1s 25ms/step - loss: 0.3207 - accuracy: 0.8087 - val_loss: 0.3629 - val_accuracy: 0.7700\n",
            "Epoch 22/40\n",
            "40/40 [==============================] - 1s 24ms/step - loss: 0.3980 - accuracy: 0.8050 - val_loss: 0.3951 - val_accuracy: 0.7950\n",
            "Epoch 23/40\n",
            "40/40 [==============================] - 1s 25ms/step - loss: 0.3300 - accuracy: 0.8138 - val_loss: 0.3181 - val_accuracy: 0.7950\n",
            "Epoch 24/40\n",
            "40/40 [==============================] - 1s 24ms/step - loss: 0.3782 - accuracy: 0.8125 - val_loss: 0.3115 - val_accuracy: 0.8000\n",
            "Epoch 25/40\n",
            "40/40 [==============================] - 1s 24ms/step - loss: 0.4515 - accuracy: 0.8188 - val_loss: 0.4980 - val_accuracy: 0.7250\n",
            "Epoch 26/40\n",
            "40/40 [==============================] - 1s 25ms/step - loss: 0.4180 - accuracy: 0.8112 - val_loss: 0.3377 - val_accuracy: 0.7900\n",
            "Epoch 27/40\n",
            "40/40 [==============================] - 1s 25ms/step - loss: 0.3414 - accuracy: 0.7925 - val_loss: 0.3139 - val_accuracy: 0.7950\n",
            "Epoch 28/40\n",
            "40/40 [==============================] - 1s 25ms/step - loss: 0.4577 - accuracy: 0.8000 - val_loss: 0.5761 - val_accuracy: 0.7650\n",
            "Epoch 29/40\n",
            "40/40 [==============================] - 1s 24ms/step - loss: 0.3514 - accuracy: 0.8012 - val_loss: 0.4688 - val_accuracy: 0.7600\n",
            "Epoch 30/40\n",
            "40/40 [==============================] - 1s 25ms/step - loss: 0.3449 - accuracy: 0.8075 - val_loss: 0.3755 - val_accuracy: 0.7850\n",
            "Epoch 31/40\n",
            "40/40 [==============================] - 1s 24ms/step - loss: 0.2878 - accuracy: 0.8288 - val_loss: 0.2936 - val_accuracy: 0.8700\n",
            "Epoch 32/40\n",
            "40/40 [==============================] - 1s 25ms/step - loss: 0.3078 - accuracy: 0.8225 - val_loss: 0.3119 - val_accuracy: 0.7950\n",
            "Epoch 33/40\n",
            "40/40 [==============================] - 1s 24ms/step - loss: 0.4571 - accuracy: 0.7862 - val_loss: 0.5848 - val_accuracy: 0.7400\n",
            "Epoch 34/40\n",
            "40/40 [==============================] - 1s 24ms/step - loss: 0.4444 - accuracy: 0.7588 - val_loss: 0.3724 - val_accuracy: 0.7800\n",
            "Epoch 35/40\n",
            "40/40 [==============================] - 1s 24ms/step - loss: 0.3524 - accuracy: 0.8087 - val_loss: 0.3924 - val_accuracy: 0.7700\n",
            "Epoch 36/40\n",
            "40/40 [==============================] - 1s 25ms/step - loss: 0.3143 - accuracy: 0.8213 - val_loss: 0.2900 - val_accuracy: 0.8750\n",
            "Epoch 37/40\n",
            "40/40 [==============================] - 1s 25ms/step - loss: 0.3573 - accuracy: 0.8050 - val_loss: 0.3043 - val_accuracy: 0.8000\n",
            "Epoch 38/40\n",
            "40/40 [==============================] - 1s 25ms/step - loss: 0.2837 - accuracy: 0.8288 - val_loss: 0.3163 - val_accuracy: 0.8000\n",
            "Epoch 39/40\n",
            "40/40 [==============================] - 1s 24ms/step - loss: 0.3080 - accuracy: 0.8050 - val_loss: 0.3190 - val_accuracy: 0.7950\n",
            "Epoch 40/40\n",
            "40/40 [==============================] - 1s 24ms/step - loss: 0.2776 - accuracy: 0.8200 - val_loss: 0.3092 - val_accuracy: 0.8000\n"
          ],
          "name": "stdout"
        }
      ]
    },
    {
      "cell_type": "code",
      "metadata": {
        "id": "Y9Z8NFC-S2lZ",
        "colab_type": "code",
        "colab": {
          "base_uri": "https://localhost:8080/",
          "height": 560
        },
        "outputId": "0b24154b-3248-4f16-fcaf-996a371900c7"
      },
      "source": [
        "##PLots\n",
        "\n",
        "acc=history_dense.history['accuracy']\n",
        "val_acc=history_dense.history['val_accuracy']\n",
        "loss=history_dense.history['loss']\n",
        "val_loss=history_dense.history['val_loss']\n",
        "\n",
        "epochs=range(len(acc))\n",
        "\n",
        "\n",
        "# Plot training and validation accuracy per epoch\n",
        "\n",
        "plt.plot(epochs, acc, 'r',label='Training')\n",
        "plt.plot(epochs, val_acc, 'b',label='Validation')\n",
        "plt.title('Training and validation accuracy')\n",
        "plt.legend(loc='right')\n",
        "plt.figure()\n",
        "\n",
        "\n",
        "\n",
        "# Plot training and validation loss per epoch\n",
        "\n",
        "plt.plot(epochs, loss, 'r', label='Training')\n",
        "plt.plot(epochs, val_loss, 'b', label='Validation ')\n",
        "plt.legend(loc='right')\n",
        "plt.title('Training and validation loss')"
      ],
      "execution_count": null,
      "outputs": [
        {
          "output_type": "execute_result",
          "data": {
            "text/plain": [
              "Text(0.5, 1.0, 'Training and validation loss')"
            ]
          },
          "metadata": {
            "tags": []
          },
          "execution_count": 103
        },
        {
          "output_type": "display_data",
          "data": {
            "image/png": "[encoded data removed]",
            "text/plain": [
              "<Figure size 432x288 with 1 Axes>"
            ]
          },
          "metadata": {
            "tags": [],
            "needs_background": "light"
          }
        },
        {
          "output_type": "display_data",
          "data": {
            "image/png": "[encoded data removed]",
            "text/plain": [
              "<Figure size 432x288 with 1 Axes>"
            ]
          },
          "metadata": {
            "tags": [],
            "needs_background": "light"
          }
        }
      ]
    },
    {
      "cell_type": "code",
      "metadata": {
        "id": "qGbFa3ruhEqi",
        "colab_type": "code",
        "colab": {
          "base_uri": "https://localhost:8080/",
          "height": 82
        },
        "outputId": "3542e966-9ce3-4a29-bde3-95eb8ba1e88d"
      },
      "source": [
        "## Loss and Accuracy on Train Set\n",
        "results = dense_model.evaluate(train_generator)\n",
        "loss = results[0]\n",
        "accuracy = results[1]\n",
        "\n",
        "print(f\" For Training loss = {loss},  acc = {accuracy}\")\n",
        "\n",
        "results_2 = dense_model.evaluate(validation_generator)\n",
        "loss_2 = results_2[0]\n",
        "accuracy_2 = results_2[1]\n",
        "\n",
        "print(f\" For Validation  loss = {loss_2},  acc = {accuracy_2}\")"
      ],
      "execution_count": null,
      "outputs": [
        {
          "output_type": "stream",
          "text": [
            "40/40 [==============================] - 1s 17ms/step - loss: 0.2947 - accuracy: 0.7975\n",
            " For Training loss = 0.29473793506622314,  acc = 0.7975000143051147\n",
            "10/10 [==============================] - 0s 16ms/step - loss: 0.3092 - accuracy: 0.8000\n",
            " For Validation  loss = 0.3091883957386017,  acc = 0.800000011920929\n"
          ],
          "name": "stdout"
        }
      ]
    },
    {
      "cell_type": "markdown",
      "metadata": {
        "id": "XjwHSn9TQkRN",
        "colab_type": "text"
      },
      "source": [
        "## PreTrained Model"
      ]
    },
    {
      "cell_type": "code",
      "metadata": {
        "id": "9dtmlxkARFyS",
        "colab_type": "code",
        "colab": {}
      },
      "source": [
        "IMG_SIZE, N_CHANNELS = (128, 128), 3"
      ],
      "execution_count": null,
      "outputs": []
    },
    {
      "cell_type": "code",
      "metadata": {
        "id": "zas7OhlhQudf",
        "colab_type": "code",
        "colab": {
          "base_uri": "https://localhost:8080/",
          "height": 49
        },
        "outputId": "9a0588e0-1015-4a95-ac75-f1e002714ac5"
      },
      "source": [
        "vgg16 = tf.keras.applications.VGG16(include_top=False, weights=\"imagenet\", input_shape=(IMG_SIZE[0],IMG_SIZE[1], N_CHANNELS))"
      ],
      "execution_count": null,
      "outputs": [
        {
          "output_type": "stream",
          "text": [
            "Downloading data from https://storage.googleapis.com/tensorflow/keras-applications/vgg16/vgg16_weights_tf_dim_ordering_tf_kernels_notop.h5\n",
            "58892288/58889256 [==============================] - 1s 0us/step\n"
          ],
          "name": "stdout"
        }
      ]
    },
    {
      "cell_type": "code",
      "metadata": {
        "id": "p2pq88W-RPkr",
        "colab_type": "code",
        "colab": {}
      },
      "source": [
        "vgg16.trainable = False "
      ],
      "execution_count": null,
      "outputs": []
    },
    {
      "cell_type": "code",
      "metadata": {
        "id": "idSJ45QlRT1g",
        "colab_type": "code",
        "colab": {}
      },
      "source": [
        "pre_model = tf.keras.models.Sequential()\n",
        "pre_model.add(vgg16)\n",
        "pre_model.add(tf.keras.layers.Flatten())\n",
        "pre_model.add(tf.keras.layers.Dense(64, activation='relu'))\n",
        "pre_model.add(tf.keras.layers.Dense(5, activation='softmax'))\n"
      ],
      "execution_count": null,
      "outputs": []
    },
    {
      "cell_type": "code",
      "metadata": {
        "id": "zCzHkwm5Rcj7",
        "colab_type": "code",
        "colab": {}
      },
      "source": [
        "pre_model.compile(optimizer = tf.keras.optimizers.Adam(learning_rate=0.0001),\n",
        "              loss = 'categorical_crossentropy',\n",
        "              metrics=['accuracy'])"
      ],
      "execution_count": null,
      "outputs": []
    },
    {
      "cell_type": "code",
      "metadata": {
        "id": "dQmD-gQZRwI6",
        "colab_type": "code",
        "colab": {
          "base_uri": "https://localhost:8080/",
          "height": 1000
        },
        "outputId": "2a86bea8-f237-40bc-8bcd-87edfc2d7204"
      },
      "source": [
        "history_pre = pre_model.fit(train_generator, validation_data=validation_generator , epochs=40)"
      ],
      "execution_count": null,
      "outputs": [
        {
          "output_type": "stream",
          "text": [
            "Epoch 1/40\n",
            "40/40 [==============================] - 2s 56ms/step - loss: 0.6550 - accuracy: 0.8487 - val_loss: 0.1606 - val_accuracy: 0.9900\n",
            "Epoch 2/40\n",
            "40/40 [==============================] - 2s 52ms/step - loss: 0.0881 - accuracy: 0.9975 - val_loss: 0.0598 - val_accuracy: 0.9900\n",
            "Epoch 3/40\n",
            "40/40 [==============================] - 2s 51ms/step - loss: 0.0383 - accuracy: 1.0000 - val_loss: 0.0383 - val_accuracy: 0.9900\n",
            "Epoch 4/40\n",
            "40/40 [==============================] - 2s 51ms/step - loss: 0.0235 - accuracy: 1.0000 - val_loss: 0.0308 - val_accuracy: 0.9950\n",
            "Epoch 5/40\n",
            "40/40 [==============================] - 2s 52ms/step - loss: 0.0166 - accuracy: 1.0000 - val_loss: 0.0234 - val_accuracy: 0.9900\n",
            "Epoch 6/40\n",
            "40/40 [==============================] - 2s 52ms/step - loss: 0.0123 - accuracy: 1.0000 - val_loss: 0.0211 - val_accuracy: 0.9950\n",
            "Epoch 7/40\n",
            "40/40 [==============================] - 2s 52ms/step - loss: 0.0098 - accuracy: 1.0000 - val_loss: 0.0179 - val_accuracy: 0.9900\n",
            "Epoch 8/40\n",
            "40/40 [==============================] - 2s 52ms/step - loss: 0.0079 - accuracy: 1.0000 - val_loss: 0.0162 - val_accuracy: 0.9950\n",
            "Epoch 9/40\n",
            "40/40 [==============================] - 2s 52ms/step - loss: 0.0064 - accuracy: 1.0000 - val_loss: 0.0146 - val_accuracy: 0.9900\n",
            "Epoch 10/40\n",
            "40/40 [==============================] - 2s 51ms/step - loss: 0.0054 - accuracy: 1.0000 - val_loss: 0.0136 - val_accuracy: 0.9900\n",
            "Epoch 11/40\n",
            "40/40 [==============================] - 2s 51ms/step - loss: 0.0047 - accuracy: 1.0000 - val_loss: 0.0127 - val_accuracy: 0.9900\n",
            "Epoch 12/40\n",
            "40/40 [==============================] - 2s 51ms/step - loss: 0.0041 - accuracy: 1.0000 - val_loss: 0.0122 - val_accuracy: 0.9950\n",
            "Epoch 13/40\n",
            "40/40 [==============================] - 2s 52ms/step - loss: 0.0036 - accuracy: 1.0000 - val_loss: 0.0114 - val_accuracy: 0.9950\n",
            "Epoch 14/40\n",
            "40/40 [==============================] - 2s 51ms/step - loss: 0.0032 - accuracy: 1.0000 - val_loss: 0.0109 - val_accuracy: 0.9950\n",
            "Epoch 15/40\n",
            "40/40 [==============================] - 2s 51ms/step - loss: 0.0028 - accuracy: 1.0000 - val_loss: 0.0104 - val_accuracy: 0.9950\n",
            "Epoch 16/40\n",
            "40/40 [==============================] - 2s 51ms/step - loss: 0.0025 - accuracy: 1.0000 - val_loss: 0.0100 - val_accuracy: 0.9950\n",
            "Epoch 17/40\n",
            "40/40 [==============================] - 2s 51ms/step - loss: 0.0023 - accuracy: 1.0000 - val_loss: 0.0096 - val_accuracy: 0.9950\n",
            "Epoch 18/40\n",
            "40/40 [==============================] - 2s 51ms/step - loss: 0.0021 - accuracy: 1.0000 - val_loss: 0.0092 - val_accuracy: 0.9950\n",
            "Epoch 19/40\n",
            "40/40 [==============================] - 2s 50ms/step - loss: 0.0020 - accuracy: 1.0000 - val_loss: 0.0092 - val_accuracy: 0.9950\n",
            "Epoch 20/40\n",
            "40/40 [==============================] - 2s 51ms/step - loss: 0.0018 - accuracy: 1.0000 - val_loss: 0.0089 - val_accuracy: 0.9950\n",
            "Epoch 21/40\n",
            "40/40 [==============================] - 2s 51ms/step - loss: 0.0017 - accuracy: 1.0000 - val_loss: 0.0086 - val_accuracy: 0.9950\n",
            "Epoch 22/40\n",
            "40/40 [==============================] - 2s 51ms/step - loss: 0.0015 - accuracy: 1.0000 - val_loss: 0.0081 - val_accuracy: 0.9950\n",
            "Epoch 23/40\n",
            "40/40 [==============================] - 2s 51ms/step - loss: 0.0014 - accuracy: 1.0000 - val_loss: 0.0081 - val_accuracy: 0.9950\n",
            "Epoch 24/40\n",
            "40/40 [==============================] - 2s 51ms/step - loss: 0.0013 - accuracy: 1.0000 - val_loss: 0.0077 - val_accuracy: 0.9950\n",
            "Epoch 25/40\n",
            "40/40 [==============================] - 2s 51ms/step - loss: 0.0012 - accuracy: 1.0000 - val_loss: 0.0076 - val_accuracy: 0.9950\n",
            "Epoch 26/40\n",
            "40/40 [==============================] - 2s 50ms/step - loss: 0.0011 - accuracy: 1.0000 - val_loss: 0.0073 - val_accuracy: 0.9950\n",
            "Epoch 27/40\n",
            "40/40 [==============================] - 2s 51ms/step - loss: 0.0011 - accuracy: 1.0000 - val_loss: 0.0073 - val_accuracy: 0.9950\n",
            "Epoch 28/40\n",
            "40/40 [==============================] - 2s 51ms/step - loss: 9.9081e-04 - accuracy: 1.0000 - val_loss: 0.0071 - val_accuracy: 0.9950\n",
            "Epoch 29/40\n",
            "40/40 [==============================] - 2s 51ms/step - loss: 9.2771e-04 - accuracy: 1.0000 - val_loss: 0.0069 - val_accuracy: 0.9950\n",
            "Epoch 30/40\n",
            "40/40 [==============================] - 2s 51ms/step - loss: 8.6849e-04 - accuracy: 1.0000 - val_loss: 0.0069 - val_accuracy: 0.9950\n",
            "Epoch 31/40\n",
            "40/40 [==============================] - 2s 51ms/step - loss: 8.2492e-04 - accuracy: 1.0000 - val_loss: 0.0067 - val_accuracy: 1.0000\n",
            "Epoch 32/40\n",
            "40/40 [==============================] - 2s 51ms/step - loss: 7.8020e-04 - accuracy: 1.0000 - val_loss: 0.0064 - val_accuracy: 1.0000\n",
            "Epoch 33/40\n",
            "40/40 [==============================] - 2s 51ms/step - loss: 7.2880e-04 - accuracy: 1.0000 - val_loss: 0.0064 - val_accuracy: 1.0000\n",
            "Epoch 34/40\n",
            "40/40 [==============================] - 2s 51ms/step - loss: 6.9803e-04 - accuracy: 1.0000 - val_loss: 0.0063 - val_accuracy: 1.0000\n",
            "Epoch 35/40\n",
            "40/40 [==============================] - 2s 51ms/step - loss: 6.5967e-04 - accuracy: 1.0000 - val_loss: 0.0062 - val_accuracy: 1.0000\n",
            "Epoch 36/40\n",
            "40/40 [==============================] - 2s 51ms/step - loss: 6.2504e-04 - accuracy: 1.0000 - val_loss: 0.0061 - val_accuracy: 1.0000\n",
            "Epoch 37/40\n",
            "40/40 [==============================] - 2s 51ms/step - loss: 5.9704e-04 - accuracy: 1.0000 - val_loss: 0.0061 - val_accuracy: 1.0000\n",
            "Epoch 38/40\n",
            "40/40 [==============================] - 2s 51ms/step - loss: 5.6696e-04 - accuracy: 1.0000 - val_loss: 0.0058 - val_accuracy: 1.0000\n",
            "Epoch 39/40\n",
            "40/40 [==============================] - 2s 51ms/step - loss: 5.3612e-04 - accuracy: 1.0000 - val_loss: 0.0058 - val_accuracy: 1.0000\n",
            "Epoch 40/40\n",
            "40/40 [==============================] - 2s 51ms/step - loss: 5.1666e-04 - accuracy: 1.0000 - val_loss: 0.0057 - val_accuracy: 1.0000\n"
          ],
          "name": "stdout"
        }
      ]
    },
    {
      "cell_type": "code",
      "metadata": {
        "id": "wiZbwoSQR1Ka",
        "colab_type": "code",
        "colab": {
          "base_uri": "https://localhost:8080/",
          "height": 560
        },
        "outputId": "1ee90723-9613-4095-9579-6cbd2fb2f414"
      },
      "source": [
        "##PLots\n",
        "\n",
        "acc=history_pre.history['accuracy']\n",
        "val_acc=history_pre.history['val_accuracy']\n",
        "loss=history_pre.history['loss']\n",
        "val_loss=history_pre.history['val_loss']\n",
        "\n",
        "epochs=range(len(acc))\n",
        "\n",
        "\n",
        "# Plot training and validation accuracy per epoch\n",
        "\n",
        "plt.plot(epochs, acc, 'r',label='Training')\n",
        "plt.plot(epochs, val_acc, 'b',label='Validation')\n",
        "plt.title('Training and validation accuracy')\n",
        "plt.legend(loc='right')\n",
        "plt.figure()\n",
        "\n",
        "\n",
        "\n",
        "# Plot training and validation loss per epoch\n",
        "\n",
        "plt.plot(epochs, loss, 'r', label='Training')\n",
        "plt.plot(epochs, val_loss, 'b', label='Validation ')\n",
        "plt.legend(loc='right')\n",
        "plt.title('Training and validation loss')"
      ],
      "execution_count": null,
      "outputs": [
        {
          "output_type": "execute_result",
          "data": {
            "text/plain": [
              "Text(0.5, 1.0, 'Training and validation loss')"
            ]
          },
          "metadata": {
            "tags": []
          },
          "execution_count": 102
        },
        {
          "output_type": "display_data",
          "data": {
            "image/png": "[encoded data removed]",
            "text/plain": [
              "<Figure size 432x288 with 1 Axes>"
            ]
          },
          "metadata": {
            "tags": [],
            "needs_background": "light"
          }
        },
        {
          "output_type": "display_data",
          "data": {
            "image/png": "[encoded data removed]",
            "text/plain": [
              "<Figure size 432x288 with 1 Axes>"
            ]
          },
          "metadata": {
            "tags": [],
            "needs_background": "light"
          }
        }
      ]
    },
    {
      "cell_type": "code",
      "metadata": {
        "id": "mIz3BHO7TPyh",
        "colab_type": "code",
        "colab": {
          "base_uri": "https://localhost:8080/",
          "height": 82
        },
        "outputId": "5b590abc-30a7-462a-9cc7-71b79b9f73f2"
      },
      "source": [
        "## Loss and Accuracy on Train Set\n",
        "results = pre_model.evaluate(train_generator)\n",
        "loss = results[0]\n",
        "accuracy = results[1]\n",
        "\n",
        "print(f\" For Training loss = {loss},  acc = {accuracy}\")\n",
        "\n",
        "results_2 = pre_model.evaluate(validation_generator)\n",
        "loss_2 = results_2[0]\n",
        "accuracy_2 = results_2[1]\n",
        "\n",
        "print(f\" For Validation  loss = {loss_2},  acc = {accuracy_2}\")"
      ],
      "execution_count": null,
      "outputs": [
        {
          "output_type": "stream",
          "text": [
            "40/40 [==============================] - 2s 41ms/step - loss: 4.9577e-04 - accuracy: 1.0000\n",
            " For Training loss = 0.0004957708879373968,  acc = 1.0\n",
            "10/10 [==============================] - 0s 37ms/step - loss: 0.0057 - accuracy: 1.0000\n",
            " For Validation  loss = 0.005677958019077778,  acc = 1.0\n"
          ],
          "name": "stdout"
        }
      ]
    },
    {
      "cell_type": "code",
      "metadata": {
        "id": "GIz77Tu8VRqK",
        "colab_type": "code",
        "colab": {}
      },
      "source": [
        ""
      ],
      "execution_count": null,
      "outputs": []
    }
  ]
}