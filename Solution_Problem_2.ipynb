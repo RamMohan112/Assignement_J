{
  "nbformat": 4,
  "nbformat_minor": 0,
  "metadata": {
    "colab": {
      "name": "Solution_Problem_2.ipynb",
      "provenance": [],
      "collapsed_sections": [],
      "toc_visible": true,
      "authorship_tag": "ABX9TyPjEQIX8C2L5EfXfLeB/4/N",
      "include_colab_link": true
    },
    "kernelspec": {
      "name": "python3",
      "display_name": "Python 3"
    },
    "accelerator": "GPU"
  },
  "cells": [
    {
      "cell_type": "markdown",
      "metadata": {
        "id": "view-in-github",
        "colab_type": "text"
      },
      "source": [
        "<a href=\"https://colab.research.google.com/github/RamMohan112/Assignement_J/blob/master/Solution_Problem_2.ipynb\" target=\"_parent\"><img src=\"https://colab.research.google.com/assets/colab-badge.svg\" alt=\"Open In Colab\"/></a>"
      ]
    },
    {
      "cell_type": "code",
      "metadata": {
        "id": "ScHFF0BPRX7E",
        "colab_type": "code",
        "colab": {}
      },
      "source": [
        "import os\n",
        "import tensorflow as tf\n",
        "from tensorflow.keras.optimizers import RMSprop\n",
        "from tensorflow.keras.preprocessing.image import ImageDataGenerator\n",
        "import numpy as np\n",
        "\n",
        "import matplotlib.pyplot as plt\n"
      ],
      "execution_count": null,
      "outputs": []
    },
    {
      "cell_type": "code",
      "metadata": {
        "id": "GZcIl59TZ9As",
        "colab_type": "code",
        "colab": {}
      },
      "source": [
        ""
      ],
      "execution_count": null,
      "outputs": []
    },
    {
      "cell_type": "code",
      "metadata": {
        "id": "QaEDYKs5xhtm",
        "colab_type": "code",
        "colab": {
          "base_uri": "https://localhost:8080/",
          "height": 118
        },
        "outputId": "527234d5-693e-478f-db47-3d23ae98d73c"
      },
      "source": [
        "# Load the Drive helper and mount\n",
        "from google.colab import drive\n",
        "\n",
        "# This will prompt for authorization.\n",
        "drive.mount('/content/drive')\n"
      ],
      "execution_count": null,
      "outputs": [
        {
          "output_type": "stream",
          "text": [
            "Go to this URL in a browser: https://accounts.google.com/o/oauth2/auth?client_id=947318989803-6bn6qk8qdgf4n4g3pfee6491hc0brc4i.apps.googleusercontent.com&redirect_uri=urn%3aietf%3awg%3aoauth%3a2.0%3aoob&response_type=code&scope=email%20https%3a%2f%2fwww.googleapis.com%2fauth%2fdocs.test%20https%3a%2f%2fwww.googleapis.com%2fauth%2fdrive%20https%3a%2f%2fwww.googleapis.com%2fauth%2fdrive.photos.readonly%20https%3a%2f%2fwww.googleapis.com%2fauth%2fpeopleapi.readonly\n",
            "\n",
            "Enter your authorization code:\n",
            "··········\n",
            "Mounted at /content/drive\n"
          ],
          "name": "stdout"
        }
      ]
    },
    {
      "cell_type": "code",
      "metadata": {
        "id": "WxNeVLab78NX",
        "colab_type": "code",
        "colab": {}
      },
      "source": [
        "## For Copying Data From Drive to Colab Instance Important for Faster Training Loop\n",
        "\n",
        "!cp -r \"/content/drive/My Drive/Colab Notebooks/Solution_IIT_Jodhpur/GurNum/\" new_dir"
      ],
      "execution_count": null,
      "outputs": []
    },
    {
      "cell_type": "code",
      "metadata": {
        "id": "Kpt_2lmW-WdL",
        "colab_type": "code",
        "colab": {}
      },
      "source": [
        ""
      ],
      "execution_count": null,
      "outputs": []
    },
    {
      "cell_type": "markdown",
      "metadata": {
        "id": "h6mDsTZ_xiMX",
        "colab_type": "text"
      },
      "source": [
        "# Getting the data from Google Drive"
      ]
    },
    {
      "cell_type": "markdown",
      "metadata": {
        "id": "gdNw7-CxcpPH",
        "colab_type": "text"
      },
      "source": [
        ""
      ]
    },
    {
      "cell_type": "code",
      "metadata": {
        "id": "KuLYVqPNPEBa",
        "colab_type": "code",
        "colab": {
          "base_uri": "https://localhost:8080/",
          "height": 32
        },
        "outputId": "c1991a1c-fceb-474f-a1f2-2793e7df0b9c"
      },
      "source": [
        "!ls \"/content/drive/My Drive/Colab Notebooks/Solution_IIT_Jodhpur/GurNum/\""
      ],
      "execution_count": null,
      "outputs": [
        {
          "output_type": "stream",
          "text": [
            "train  val\n"
          ],
          "name": "stdout"
        }
      ]
    },
    {
      "cell_type": "code",
      "metadata": {
        "id": "_hR2rS21PP1t",
        "colab_type": "code",
        "colab": {}
      },
      "source": [
        "base_dir = \"/content/new_dir\"\n",
        "train_dir = os.path.join(base_dir, 'train/')\n",
        "val_dir = os.path.join(base_dir, 'val/')\n"
      ],
      "execution_count": null,
      "outputs": []
    },
    {
      "cell_type": "code",
      "metadata": {
        "id": "4O5jQY5Df9QN",
        "colab_type": "code",
        "colab": {}
      },
      "source": [
        "## Rough check if image is grayscale or rgb\n",
        "from PIL import Image\n",
        "\n",
        "def is_grey_scale(img_path):\n",
        "\n",
        "  img = Image.open(img_path).convert('RGB')\n",
        "  w,h = img.size\n",
        "  for i in range(w):\n",
        "      for j in range(h):\n",
        "          r,g,b = img.getpixel((i,j))\n",
        "          if r != g != b: return False\n",
        "  return True"
      ],
      "execution_count": null,
      "outputs": []
    },
    {
      "cell_type": "code",
      "metadata": {
        "id": "wsq1_3whgY-y",
        "colab_type": "code",
        "colab": {}
      },
      "source": [
        "is_grey_scale(img_path)"
      ],
      "execution_count": null,
      "outputs": []
    },
    {
      "cell_type": "markdown",
      "metadata": {
        "id": "2PTY5ahIcqFG",
        "colab_type": "text"
      },
      "source": [
        "Check Size of the Image"
      ]
    },
    {
      "cell_type": "code",
      "metadata": {
        "id": "mpZXB3kEcGNe",
        "colab_type": "code",
        "colab": {}
      },
      "source": [
        "from PIL import Image\n",
        "img_path = os.path.join(train_dir, '0/1.bmp')\n",
        "im = Image.open(img_path)\n",
        "width, height = im.size"
      ],
      "execution_count": null,
      "outputs": []
    },
    {
      "cell_type": "code",
      "metadata": {
        "id": "NK3nSoVPc_aR",
        "colab_type": "code",
        "colab": {
          "base_uri": "https://localhost:8080/",
          "height": 32
        },
        "outputId": "b5c73ee5-b2e1-4101-a3df-405090ba77fe"
      },
      "source": [
        "width, height"
      ],
      "execution_count": null,
      "outputs": [
        {
          "output_type": "execute_result",
          "data": {
            "text/plain": [
              "(32, 32)"
            ]
          },
          "metadata": {
            "tags": []
          },
          "execution_count": 76
        }
      ]
    },
    {
      "cell_type": "markdown",
      "metadata": {
        "id": "aHuBt499sLBp",
        "colab_type": "text"
      },
      "source": [
        "# Data Pipeline and Preprocessing"
      ]
    },
    {
      "cell_type": "code",
      "metadata": {
        "id": "0lfisy04Rq0V",
        "colab_type": "code",
        "colab": {}
      },
      "source": [
        "train_datagen = ImageDataGenerator(rescale=1./255, validation_split=0.2)\n",
        "test_datagen = ImageDataGenerator(rescale=1./255)"
      ],
      "execution_count": null,
      "outputs": []
    },
    {
      "cell_type": "code",
      "metadata": {
        "id": "xIusvvkyW4h_",
        "colab_type": "code",
        "colab": {
          "base_uri": "https://localhost:8080/",
          "height": 32
        },
        "outputId": "72b46787-6329-49bf-cdfc-3f3bba01aae6"
      },
      "source": [
        "train_generator = train_datagen.flow_from_directory(\n",
        "    train_dir, \n",
        "    target_size=(32,32), \n",
        "    color_mode='grayscale',\n",
        "    batch_size=32,\n",
        "    shuffle=True,\n",
        "    subset=\"training\"\n",
        ")\n",
        "\n"
      ],
      "execution_count": null,
      "outputs": [
        {
          "output_type": "stream",
          "text": [
            "Found 800 images belonging to 10 classes.\n"
          ],
          "name": "stdout"
        }
      ]
    },
    {
      "cell_type": "code",
      "metadata": {
        "id": "NWVeeTmyX4-3",
        "colab_type": "code",
        "colab": {
          "base_uri": "https://localhost:8080/",
          "height": 32
        },
        "outputId": "d0e80c1e-3b47-423f-ae9c-e05f29ee98f4"
      },
      "source": [
        "validation_generator = train_datagen.flow_from_directory(\n",
        "    train_dir, \n",
        "    target_size=(32,32), \n",
        "    color_mode='grayscale',\n",
        "    batch_size=16,\n",
        "    subset=\"validation\"\n",
        ")\n"
      ],
      "execution_count": null,
      "outputs": [
        {
          "output_type": "stream",
          "text": [
            "Found 200 images belonging to 10 classes.\n"
          ],
          "name": "stdout"
        }
      ]
    },
    {
      "cell_type": "code",
      "metadata": {
        "id": "CzeqFK6D3N-Q",
        "colab_type": "code",
        "colab": {
          "base_uri": "https://localhost:8080/",
          "height": 85
        },
        "outputId": "373393e9-99e1-4a35-af5b-9752c336aa52"
      },
      "source": [
        "test_generator = test_datagen.flow_from_directory(\n",
        "    val_dir,\n",
        "    target_size=(32,32), \n",
        "    color_mode='grayscale'\n",
        ")"
      ],
      "execution_count": null,
      "outputs": [
        {
          "output_type": "stream",
          "text": [
            "Found 178 images belonging to 10 classes.\n"
          ],
          "name": "stdout"
        },
        {
          "output_type": "stream",
          "text": [
            "/usr/local/lib/python3.6/dist-packages/keras_preprocessing/image/utils.py:179: UserWarning: Using \".tiff\" files with multiple bands will cause distortion. Please verify your output.\n",
            "  warnings.warn('Using \".tiff\" files with multiple bands '\n"
          ],
          "name": "stderr"
        }
      ]
    },
    {
      "cell_type": "markdown",
      "metadata": {
        "id": "_tgJmVzmsgMW",
        "colab_type": "text"
      },
      "source": [
        "Display Images from Train and Validation  generator"
      ]
    },
    {
      "cell_type": "code",
      "metadata": {
        "id": "UrIoDb-hYpay",
        "colab_type": "code",
        "colab": {}
      },
      "source": [
        "temp_x = train_generator._get_batches_of_transformed_samples([1])[0]       # choosing only data point at index 1\n",
        "temp_y = train_generator._get_batches_of_transformed_samples([1])[1]\n",
        "\n",
        "# plt.imshow(temp_x[0])\n",
        "plt.imshow(tf.squeeze(temp_x[0]),cmap=\"gray\")\n",
        "print(\"Label = {}\".format(temp_y))\n",
        "#print(x_train[5,:,:,:])"
      ],
      "execution_count": null,
      "outputs": []
    },
    {
      "cell_type": "code",
      "metadata": {
        "id": "L2X5orx0bpYD",
        "colab_type": "code",
        "colab": {}
      },
      "source": [
        ""
      ],
      "execution_count": null,
      "outputs": []
    },
    {
      "cell_type": "code",
      "metadata": {
        "id": "257P61K8Z5JL",
        "colab_type": "code",
        "colab": {}
      },
      "source": [
        ""
      ],
      "execution_count": null,
      "outputs": []
    },
    {
      "cell_type": "markdown",
      "metadata": {
        "id": "hqWkck_4XfzT",
        "colab_type": "text"
      },
      "source": [
        "# Augmented Data Pipeline\n"
      ]
    },
    {
      "cell_type": "code",
      "metadata": {
        "id": "reADe5_xXmN5",
        "colab_type": "code",
        "colab": {}
      },
      "source": [
        "train_datagen = ImageDataGenerator(\n",
        "      rescale=1./255,\n",
        "      width_shift_range=0.2,\n",
        "      height_shift_range=0.2,\n",
        "      shear_range=0.2,\n",
        "      zoom_range=0.2,\n",
        "      fill_mode='nearest', \n",
        "      validation_split=0.2\n",
        ")"
      ],
      "execution_count": null,
      "outputs": []
    },
    {
      "cell_type": "code",
      "metadata": {
        "id": "E3isxaBmXmA_",
        "colab_type": "code",
        "colab": {
          "base_uri": "https://localhost:8080/",
          "height": 49
        },
        "outputId": "ebc97b83-78c8-41c7-8c2e-285ab87df4ff"
      },
      "source": [
        "au_train_generator = train_datagen.flow_from_directory(\n",
        "    train_dir, \n",
        "    target_size=(32,32), \n",
        "    color_mode='grayscale',\n",
        "    batch_size=32,\n",
        "    shuffle=True,\n",
        "    subset=\"training\"\n",
        ")\n",
        "\n",
        "\n",
        "au_validation_generator = train_datagen.flow_from_directory(\n",
        "    train_dir, \n",
        "    target_size=(32,32), \n",
        "    color_mode='grayscale',\n",
        "    batch_size=16,\n",
        "    subset=\"validation\"\n",
        ")"
      ],
      "execution_count": null,
      "outputs": [
        {
          "output_type": "stream",
          "text": [
            "Found 800 images belonging to 10 classes.\n",
            "Found 200 images belonging to 10 classes.\n"
          ],
          "name": "stdout"
        }
      ]
    },
    {
      "cell_type": "code",
      "metadata": {
        "id": "__tdtoqnXluL",
        "colab_type": "code",
        "colab": {}
      },
      "source": [
        ""
      ],
      "execution_count": null,
      "outputs": []
    },
    {
      "cell_type": "markdown",
      "metadata": {
        "id": "C4UmslgssSrR",
        "colab_type": "text"
      },
      "source": [
        "# Create Model"
      ]
    },
    {
      "cell_type": "code",
      "metadata": {
        "id": "6TF7zjhDb1Kd",
        "colab_type": "code",
        "colab": {}
      },
      "source": [
        "## Model Definition\n",
        "\n",
        "model = tf.keras.models.Sequential([tf.keras.layers.Flatten(), \n",
        "\n",
        "                                    tf.keras.layers.Dense(256, activation=tf.nn.relu),                                    \n",
        "                                    tf.keras.layers.Dense(64, activation=tf.nn.relu),\n",
        "                                    \n",
        "                                    tf.keras.layers.Dense(10, activation=tf.nn.softmax)])"
      ],
      "execution_count": null,
      "outputs": []
    },
    {
      "cell_type": "markdown",
      "metadata": {
        "id": "lDALghaIuJrR",
        "colab_type": "text"
      },
      "source": [
        "# Training The Model \n"
      ]
    },
    {
      "cell_type": "markdown",
      "metadata": {
        "id": "hgHFRkw7A9s0",
        "colab_type": "text"
      },
      "source": [
        "## On Normal Dataset"
      ]
    },
    {
      "cell_type": "code",
      "metadata": {
        "id": "l5FlH8fZtZjy",
        "colab_type": "code",
        "colab": {}
      },
      "source": [
        "from tensorflow.keras.callbacks import ModelCheckpoint\n",
        "\n",
        "filepath = 'm1_model.hdf5'\n",
        "checkpoint = ModelCheckpoint(filepath, monitor='val_loss', verbose=0,\n",
        "                             save_best_only=True, save_weights_only=False,\n",
        "                             mode='auto')\n"
      ],
      "execution_count": null,
      "outputs": []
    },
    {
      "cell_type": "code",
      "metadata": {
        "id": "pBXY4f2fuJVu",
        "colab_type": "code",
        "colab": {}
      },
      "source": [
        "model.compile(optimizer = tf.keras.optimizers.Adam(learning_rate=0.0001),\n",
        "              loss = 'categorical_crossentropy',\n",
        "              metrics=['accuracy'])"
      ],
      "execution_count": null,
      "outputs": []
    },
    {
      "cell_type": "code",
      "metadata": {
        "id": "3aDtdLa6uGO9",
        "colab_type": "code",
        "colab": {}
      },
      "source": [
        "model.fit(train_generator, validation_data=validation_generator , epochs=50, callbacks=[checkpoint])"
      ],
      "execution_count": null,
      "outputs": []
    },
    {
      "cell_type": "code",
      "metadata": {
        "id": "7rCxezgntn-S",
        "colab_type": "code",
        "colab": {}
      },
      "source": [
        "model = tf.keras.models.load_model(filepath)"
      ],
      "execution_count": null,
      "outputs": []
    },
    {
      "cell_type": "code",
      "metadata": {
        "id": "7BmLpnTAvACU",
        "colab_type": "code",
        "colab": {
          "base_uri": "https://localhost:8080/",
          "height": 65
        },
        "outputId": "62ad5e0a-1bbc-40b5-a89f-d1a64f8aa759"
      },
      "source": [
        "### Evaluations\n",
        "results_1 = model.evaluate(train_generator, verbose=0)\n",
        "print(f\" Training \\t Loss={results_1[0]} \\t Accuracy ={results_1[1]}\")\n",
        "\n",
        "results_2 = model.evaluate(validation_generator , verbose=0)\n",
        "print(f\" Validation \\t Loss={results_2[0]} \\t Accuracy ={results_2[1]}\")\n",
        "\n",
        "results_3 = model.evaluate(test_generator , verbose=0)\n",
        "print(f\" Test \\t Loss={results_3[0]} \\t Accuracy ={results_3[1]}\")"
      ],
      "execution_count": null,
      "outputs": [
        {
          "output_type": "stream",
          "text": [
            " Training \t Loss=0.009357860311865807 \t Accuracy =1.0\n",
            " Validation \t Loss=0.04819011315703392 \t Accuracy =0.9950000047683716\n",
            " Test \t Loss=0.20385056734085083 \t Accuracy =0.9438202381134033\n"
          ],
          "name": "stdout"
        }
      ]
    },
    {
      "cell_type": "code",
      "metadata": {
        "id": "r9SlO9Nh4fZZ",
        "colab_type": "code",
        "colab": {}
      },
      "source": [
        ""
      ],
      "execution_count": null,
      "outputs": []
    },
    {
      "cell_type": "markdown",
      "metadata": {
        "id": "S6u91ptuZkxl",
        "colab_type": "text"
      },
      "source": [
        "## On Augmented Dataset\n"
      ]
    },
    {
      "cell_type": "code",
      "metadata": {
        "id": "XCHhrbCOZkfH",
        "colab_type": "code",
        "colab": {}
      },
      "source": [
        "model.compile(optimizer = tf.keras.optimizers.Adam(learning_rate=0.001),\n",
        "              loss = 'categorical_crossentropy',\n",
        "              metrics=['accuracy'])"
      ],
      "execution_count": null,
      "outputs": []
    },
    {
      "cell_type": "code",
      "metadata": {
        "id": "DrqWE2m5aAlv",
        "colab_type": "code",
        "colab": {}
      },
      "source": [
        "model.fit(au_train_generator, validation_data=au_validation_generator , epochs=30)"
      ],
      "execution_count": null,
      "outputs": []
    },
    {
      "cell_type": "code",
      "metadata": {
        "id": "GaE3siaVaG42",
        "colab_type": "code",
        "colab": {
          "base_uri": "https://localhost:8080/",
          "height": 32
        },
        "outputId": "03199d4d-59a3-4021-e780-23dc44f3a5e9"
      },
      "source": [
        "results = model.evaluate(test_generator)"
      ],
      "execution_count": null,
      "outputs": [
        {
          "output_type": "stream",
          "text": [
            "6/6 [==============================] - 0s 13ms/step - loss: 0.3630 - accuracy: 0.9213\n"
          ],
          "name": "stdout"
        }
      ]
    },
    {
      "cell_type": "code",
      "metadata": {
        "id": "zdjepQ6WaM1-",
        "colab_type": "code",
        "colab": {}
      },
      "source": [
        ""
      ],
      "execution_count": null,
      "outputs": []
    },
    {
      "cell_type": "markdown",
      "metadata": {
        "id": "k0DaEy3BHbs_",
        "colab_type": "text"
      },
      "source": [
        "## Save Model With Best Validation Loss"
      ]
    },
    {
      "cell_type": "code",
      "metadata": {
        "id": "FRdLB4poSdfi",
        "colab_type": "code",
        "colab": {}
      },
      "source": [
        "model_min = tf.keras.models.Sequential([tf.keras.layers.Flatten(), \n",
        "                                    \n",
        "                                    \n",
        "                                    tf.keras.layers.Dense(128, activation=tf.nn.relu),\n",
        "                                    \n",
        "                                    tf.keras.layers.Dense(10, activation=tf.nn.softmax)])"
      ],
      "execution_count": null,
      "outputs": []
    },
    {
      "cell_type": "code",
      "metadata": {
        "id": "LNaFpDsEHbez",
        "colab_type": "code",
        "colab": {}
      },
      "source": [
        "from tensorflow.keras.callbacks import ModelCheckpoint\n",
        "\n",
        "filepath = 'new_model_6.hdf5'\n",
        "checkpoint = ModelCheckpoint(filepath, monitor='val_loss', verbose=0,\n",
        "                             save_best_only=True, save_weights_only=False,\n",
        "                             mode='auto')\n"
      ],
      "execution_count": null,
      "outputs": []
    },
    {
      "cell_type": "code",
      "metadata": {
        "id": "auZomFRhKSY6",
        "colab_type": "code",
        "colab": {}
      },
      "source": [
        "model_min.compile(optimizer = tf.keras.optimizers.Adam(learning_rate=0.001),\n",
        "              loss = 'categorical_crossentropy',\n",
        "              metrics=['accuracy'])"
      ],
      "execution_count": null,
      "outputs": []
    },
    {
      "cell_type": "code",
      "metadata": {
        "id": "UXs0AUqUKT6w",
        "colab_type": "code",
        "colab": {}
      },
      "source": [
        "model_min.fit(train_generator, validation_data=validation_generator , epochs=20, callbacks=[checkpoint])"
      ],
      "execution_count": null,
      "outputs": []
    },
    {
      "cell_type": "code",
      "metadata": {
        "id": "vuWOpf8ieKfc",
        "colab_type": "code",
        "colab": {}
      },
      "source": [
        "model_min = tf.keras.models.load_model(filepath)"
      ],
      "execution_count": null,
      "outputs": []
    },
    {
      "cell_type": "code",
      "metadata": {
        "id": "6hF4qmCpKW74",
        "colab_type": "code",
        "colab": {
          "base_uri": "https://localhost:8080/",
          "height": 32
        },
        "outputId": "32a22414-bcab-4b6e-9841-a0cd0697de04"
      },
      "source": [
        "results = model_min.evaluate(test_generator)"
      ],
      "execution_count": null,
      "outputs": [
        {
          "output_type": "stream",
          "text": [
            "6/6 [==============================] - 0s 15ms/step - loss: 0.1962 - accuracy: 0.9551\n"
          ],
          "name": "stdout"
        }
      ]
    },
    {
      "cell_type": "code",
      "metadata": {
        "id": "M5vCsYjeKb-H",
        "colab_type": "code",
        "colab": {
          "base_uri": "https://localhost:8080/",
          "height": 32
        },
        "outputId": "b911de26-9f7a-46b1-f0f1-052368a217ee"
      },
      "source": [
        "results = model_min.evaluate(train_generator)"
      ],
      "execution_count": null,
      "outputs": [
        {
          "output_type": "stream",
          "text": [
            "25/25 [==============================] - 0s 9ms/step - loss: 0.0073 - accuracy: 1.0000\n"
          ],
          "name": "stdout"
        }
      ]
    },
    {
      "cell_type": "code",
      "metadata": {
        "id": "kC7_6NPoKixT",
        "colab_type": "code",
        "colab": {
          "base_uri": "https://localhost:8080/",
          "height": 32
        },
        "outputId": "1a157e04-026b-41b9-9b9a-fcdf937688e7"
      },
      "source": [
        "results = model_min.evaluate(validation_generator)"
      ],
      "execution_count": null,
      "outputs": [
        {
          "output_type": "stream",
          "text": [
            "13/13 [==============================] - 0s 6ms/step - loss: 0.0430 - accuracy: 0.9850\n"
          ],
          "name": "stdout"
        }
      ]
    },
    {
      "cell_type": "code",
      "metadata": {
        "id": "iCpfUnzLKzGP",
        "colab_type": "code",
        "colab": {}
      },
      "source": [
        ""
      ],
      "execution_count": null,
      "outputs": []
    },
    {
      "cell_type": "markdown",
      "metadata": {
        "id": "VEaHzgrkrG8Y",
        "colab_type": "text"
      },
      "source": [
        "## Model With BatchNorm and Dropout"
      ]
    },
    {
      "cell_type": "code",
      "metadata": {
        "id": "NAnfuu3VrMKw",
        "colab_type": "code",
        "colab": {}
      },
      "source": [
        "bn_model = tf.keras.models.Sequential([tf.keras.layers.Flatten(), \n",
        "                                    \n",
        "                                    \n",
        "                                    tf.keras.layers.Dense(512, activation=tf.nn.relu),\n",
        "                                    tf.keras.layers.BatchNormalization(),\n",
        "                                    \n",
        "\n",
        "                                    tf.keras.layers.Dense(256, activation=tf.nn.relu),\n",
        "                                    tf.keras.layers.BatchNormalization(),\n",
        "                                    \n",
        "                                    \n",
        "                                    tf.keras.layers.Dense(10, activation=tf.nn.softmax)])"
      ],
      "execution_count": null,
      "outputs": []
    },
    {
      "cell_type": "code",
      "metadata": {
        "id": "IOoIFy_4zwDc",
        "colab_type": "code",
        "colab": {}
      },
      "source": [
        "from tensorflow.keras.callbacks import ModelCheckpoint\n",
        "\n",
        "filepath = 'm2_model.hdf5'\n",
        "checkpoint = ModelCheckpoint(filepath, monitor='val_loss', verbose=0,\n",
        "                             save_best_only=True, save_weights_only=False,\n",
        "                             mode='auto')\n"
      ],
      "execution_count": null,
      "outputs": []
    },
    {
      "cell_type": "code",
      "metadata": {
        "id": "nH_unC8EzvtR",
        "colab_type": "code",
        "colab": {}
      },
      "source": [
        "bn_model.compile(optimizer = tf.keras.optimizers.Adam(learning_rate=0.0001),\n",
        "              loss = 'categorical_crossentropy',\n",
        "              metrics=['accuracy'])"
      ],
      "execution_count": null,
      "outputs": []
    },
    {
      "cell_type": "code",
      "metadata": {
        "id": "dQDQA5fvzvik",
        "colab_type": "code",
        "colab": {}
      },
      "source": [
        "bn_model.fit(train_generator, validation_data=validation_generator , epochs=50, callbacks=[checkpoint])"
      ],
      "execution_count": null,
      "outputs": []
    },
    {
      "cell_type": "code",
      "metadata": {
        "id": "RqNHkHnz0Dzh",
        "colab_type": "code",
        "colab": {}
      },
      "source": [
        "bn_model = tf.keras.models.load_model(filepath)"
      ],
      "execution_count": null,
      "outputs": []
    },
    {
      "cell_type": "code",
      "metadata": {
        "id": "5tHTwxrX0ICK",
        "colab_type": "code",
        "colab": {
          "base_uri": "https://localhost:8080/",
          "height": 65
        },
        "outputId": "a64fa70b-d3ea-4021-ec03-6019d0c36bf7"
      },
      "source": [
        "### Evaluations\n",
        "results_1 = bn_model.evaluate(train_generator, verbose=0)\n",
        "print(f\" Training \\t Loss={results_1[0]} \\t Accuracy ={results_1[1]}\")\n",
        "\n",
        "results_2 = bn_model.evaluate(validation_generator , verbose=0)\n",
        "print(f\" Validation \\t Loss={results_2[0]} \\t Accuracy ={results_2[1]}\")\n",
        "\n",
        "results_3 = bn_model.evaluate(test_generator , verbose=0)\n",
        "print(f\" Test \\t Loss={results_3[0]} \\t Accuracy ={results_3[1]}\")"
      ],
      "execution_count": null,
      "outputs": [
        {
          "output_type": "stream",
          "text": [
            " Training \t Loss=0.001028865692205727 \t Accuracy =1.0\n",
            " Validation \t Loss=0.06172638386487961 \t Accuracy =0.9750000238418579\n",
            " Test \t Loss=0.21978290379047394 \t Accuracy =0.9382022619247437\n"
          ],
          "name": "stdout"
        }
      ]
    },
    {
      "cell_type": "markdown",
      "metadata": {
        "id": "94wSzHrobaic",
        "colab_type": "text"
      },
      "source": [
        "# Add Regularization"
      ]
    },
    {
      "cell_type": "markdown",
      "metadata": {
        "id": "1e-8vDLSbep_",
        "colab_type": "text"
      },
      "source": [
        "## L2 Regularization"
      ]
    },
    {
      "cell_type": "markdown",
      "metadata": {
        "id": "ba4Rt5cFdGtX",
        "colab_type": "text"
      },
      "source": [
        "### BatchNorm Model"
      ]
    },
    {
      "cell_type": "code",
      "metadata": {
        "id": "1qlvRJNA4IPM",
        "colab_type": "code",
        "colab": {}
      },
      "source": [
        "bn_model = tf.keras.models.Sequential([tf.keras.layers.Flatten(), \n",
        "                                    \n",
        "                                    \n",
        "                                    tf.keras.layers.Dense(512, activation=tf.nn.relu, kernel_regularizer=tf.keras.regularizers.l2(l=0.01)),\n",
        "                                    tf.keras.layers.BatchNormalization(),\n",
        "                                    \n",
        "\n",
        "                                    tf.keras.layers.Dense(256, activation=tf.nn.relu, kernel_regularizer=tf.keras.regularizers.l2(l=0.01)),\n",
        "                                    tf.keras.layers.BatchNormalization(),\n",
        "                                    \n",
        "                                    \n",
        "                                    tf.keras.layers.Dense(10, activation=tf.nn.softmax)])"
      ],
      "execution_count": null,
      "outputs": []
    },
    {
      "cell_type": "code",
      "metadata": {
        "id": "Rlj3Vtv1bzk5",
        "colab_type": "code",
        "colab": {}
      },
      "source": [
        "from tensorflow.keras.callbacks import ModelCheckpoint\n",
        "\n",
        "filepath = 'm3_model.hdf5'\n",
        "checkpoint = ModelCheckpoint(filepath, monitor='val_loss', verbose=0,\n",
        "                             save_best_only=True, save_weights_only=False,\n",
        "                             mode='auto')\n"
      ],
      "execution_count": null,
      "outputs": []
    },
    {
      "cell_type": "code",
      "metadata": {
        "id": "ze9GJQSPb0Gv",
        "colab_type": "code",
        "colab": {}
      },
      "source": [
        "bn_model.compile(optimizer = tf.keras.optimizers.Adam(learning_rate=0.0001),\n",
        "              loss = 'categorical_crossentropy',\n",
        "              metrics=['accuracy'])"
      ],
      "execution_count": null,
      "outputs": []
    },
    {
      "cell_type": "code",
      "metadata": {
        "id": "OE0sEQ2Rb76p",
        "colab_type": "code",
        "colab": {}
      },
      "source": [
        "bn_model.fit(train_generator, validation_data=validation_generator , epochs=300, callbacks=[checkpoint])"
      ],
      "execution_count": null,
      "outputs": []
    },
    {
      "cell_type": "code",
      "metadata": {
        "id": "qacg957cc871",
        "colab_type": "code",
        "colab": {}
      },
      "source": [
        "bn_model = tf.keras.models.load_model(filepath)"
      ],
      "execution_count": null,
      "outputs": []
    },
    {
      "cell_type": "code",
      "metadata": {
        "id": "bWwt6o3gdDxe",
        "colab_type": "code",
        "colab": {
          "base_uri": "https://localhost:8080/",
          "height": 65
        },
        "outputId": "e4ad5146-dc50-4178-965d-663f35bacea9"
      },
      "source": [
        "### Evaluations\n",
        "results_1 = bn_model.evaluate(train_generator, verbose=0)\n",
        "print(f\" Training \\t Loss={results_1[0]} \\t Accuracy ={results_1[1]}\")\n",
        "\n",
        "results_2 = bn_model.evaluate(validation_generator , verbose=0)\n",
        "print(f\" Validation \\t Loss={results_2[0]} \\t Accuracy ={results_2[1]}\")\n",
        "\n",
        "results_3 = bn_model.evaluate(test_generator , verbose=0)\n",
        "print(f\" Test \\t Loss={results_3[0]} \\t Accuracy ={results_3[1]}\")"
      ],
      "execution_count": null,
      "outputs": [
        {
          "output_type": "stream",
          "text": [
            " Training \t Loss=0.01904480718076229 \t Accuracy =1.0\n",
            " Validation \t Loss=0.0352955237030983 \t Accuracy =1.0\n",
            " Test \t Loss=0.17472682893276215 \t Accuracy =0.9550561904907227\n"
          ],
          "name": "stdout"
        }
      ]
    },
    {
      "cell_type": "markdown",
      "metadata": {
        "id": "OkbSv6ozdLYV",
        "colab_type": "text"
      },
      "source": [
        "### Dropout Model"
      ]
    },
    {
      "cell_type": "code",
      "metadata": {
        "id": "9b86BwP8dOBf",
        "colab_type": "code",
        "colab": {}
      },
      "source": [
        "drop_model = tf.keras.models.Sequential([tf.keras.layers.Flatten(), \n",
        "                                    \n",
        "                                    tf.keras.layers.Dense(512, activation=tf.nn.relu, kernel_regularizer=tf.keras.regularizers.l2(l=0.01)),\n",
        "                                    tf.keras.layers.Dropout(0.5),\n",
        "                                    \n",
        "\n",
        "                                    tf.keras.layers.Dense(256, activation=tf.nn.relu, kernel_regularizer=tf.keras.regularizers.l2(l=0.01)),\n",
        "                                    tf.keras.layers.Dropout(0.5),\n",
        "                                    \n",
        "                                    \n",
        "                                    tf.keras.layers.Dense(10, activation=tf.nn.softmax)])"
      ],
      "execution_count": null,
      "outputs": []
    },
    {
      "cell_type": "code",
      "metadata": {
        "id": "IK9gJ13qeJhw",
        "colab_type": "code",
        "colab": {}
      },
      "source": [
        "from tensorflow.keras.callbacks import ModelCheckpoint\n",
        "\n",
        "filepath = 'm4_model.hdf5'\n",
        "checkpoint = ModelCheckpoint(filepath, monitor='val_loss', verbose=0,\n",
        "                             save_best_only=True, save_weights_only=False,\n",
        "                             mode='auto')\n"
      ],
      "execution_count": null,
      "outputs": []
    },
    {
      "cell_type": "code",
      "metadata": {
        "id": "9dGLW04WeNod",
        "colab_type": "code",
        "colab": {}
      },
      "source": [
        "drop_model.compile(optimizer = tf.keras.optimizers.Adam(learning_rate=0.0001),\n",
        "              loss = 'categorical_crossentropy',\n",
        "              metrics=['accuracy'])"
      ],
      "execution_count": null,
      "outputs": []
    },
    {
      "cell_type": "code",
      "metadata": {
        "id": "suqurkpJeSi9",
        "colab_type": "code",
        "colab": {}
      },
      "source": [
        "drop_model.fit(train_generator, validation_data=validation_generator , epochs=300, callbacks=[checkpoint])"
      ],
      "execution_count": null,
      "outputs": []
    },
    {
      "cell_type": "code",
      "metadata": {
        "id": "eZl2qky0eTIz",
        "colab_type": "code",
        "colab": {}
      },
      "source": [
        "drop_model = tf.keras.models.load_model(filepath)"
      ],
      "execution_count": null,
      "outputs": []
    },
    {
      "cell_type": "code",
      "metadata": {
        "id": "u4rQ-uPKeUsY",
        "colab_type": "code",
        "colab": {
          "base_uri": "https://localhost:8080/",
          "height": 65
        },
        "outputId": "9ef295d1-da6e-4439-8bd1-17468add5845"
      },
      "source": [
        "### Evaluations\n",
        "results_1 = drop_model.evaluate(train_generator, verbose=0)\n",
        "print(f\" Training \\t Loss={results_1[0]} \\t Accuracy ={results_1[1]}\")\n",
        "\n",
        "results_2 = drop_model.evaluate(validation_generator , verbose=0)\n",
        "print(f\" Validation \\t Loss={results_2[0]} \\t Accuracy ={results_2[1]}\")\n",
        "\n",
        "results_3 = drop_model.evaluate(test_generator , verbose=0)\n",
        "print(f\" Test \\t Loss={results_3[0]} \\t Accuracy ={results_3[1]}\")"
      ],
      "execution_count": null,
      "outputs": [
        {
          "output_type": "stream",
          "text": [
            " Training \t Loss=0.1442180871963501 \t Accuracy =1.0\n",
            " Validation \t Loss=0.1678999960422516 \t Accuracy =0.9850000143051147\n",
            " Test \t Loss=0.311099648475647 \t Accuracy =0.9550561904907227\n"
          ],
          "name": "stdout"
        }
      ]
    },
    {
      "cell_type": "code",
      "metadata": {
        "id": "fHOs_zEkgKE4",
        "colab_type": "code",
        "colab": {}
      },
      "source": [
        ""
      ],
      "execution_count": null,
      "outputs": []
    },
    {
      "cell_type": "markdown",
      "metadata": {
        "id": "JS2DF-T7w83A",
        "colab_type": "text"
      },
      "source": [
        "### Batch Norm + Dropout"
      ]
    },
    {
      "cell_type": "code",
      "metadata": {
        "id": "yHBG59VGxAYM",
        "colab_type": "code",
        "colab": {}
      },
      "source": [
        "bn_drop_model = tf.keras.models.Sequential([tf.keras.layers.Flatten(), \n",
        "                                    \n",
        "                                    tf.keras.layers.Dense(512, activation=tf.nn.relu, kernel_regularizer=tf.keras.regularizers.l2(l=0.01)),\n",
        "                                    tf.keras.layers.Dropout(0.5),\n",
        "                                    tf.keras.layers.BatchNormalization(),\n",
        "                                    \n",
        "\n",
        "                                    tf.keras.layers.Dense(256, activation=tf.nn.relu, kernel_regularizer=tf.keras.regularizers.l2(l=0.01)),\n",
        "                                    tf.keras.layers.Dropout(0.5),\n",
        "                                    tf.keras.layers.BatchNormalization(),\n",
        "                                    \n",
        "                                    \n",
        "                                    tf.keras.layers.Dense(10, activation=tf.nn.softmax)])"
      ],
      "execution_count": null,
      "outputs": []
    },
    {
      "cell_type": "code",
      "metadata": {
        "id": "C0fFXLPlxDIU",
        "colab_type": "code",
        "colab": {}
      },
      "source": [
        "from tensorflow.keras.callbacks import ModelCheckpoint\n",
        "\n",
        "filepath = 'm4_model.hdf5'\n",
        "checkpoint = ModelCheckpoint(filepath, monitor='val_loss', verbose=0,\n",
        "                             save_best_only=True, save_weights_only=False,\n",
        "                             mode='auto')\n"
      ],
      "execution_count": null,
      "outputs": []
    },
    {
      "cell_type": "code",
      "metadata": {
        "id": "R1QjYPYYxIop",
        "colab_type": "code",
        "colab": {}
      },
      "source": [
        "bn_drop_model.compile(optimizer = tf.keras.optimizers.Adam(learning_rate=0.0001),\n",
        "              loss = 'categorical_crossentropy',\n",
        "              metrics=['accuracy'])"
      ],
      "execution_count": null,
      "outputs": []
    },
    {
      "cell_type": "code",
      "metadata": {
        "id": "-o7DiSSNxLNE",
        "colab_type": "code",
        "colab": {}
      },
      "source": [
        "bn_drop_model.fit(train_generator, validation_data=validation_generator , epochs=300, callbacks=[checkpoint])"
      ],
      "execution_count": null,
      "outputs": []
    },
    {
      "cell_type": "code",
      "metadata": {
        "id": "Y0rDi1aixb5C",
        "colab_type": "code",
        "colab": {}
      },
      "source": [
        "bn_drop_model = tf.keras.models.load_model(filepath)"
      ],
      "execution_count": null,
      "outputs": []
    },
    {
      "cell_type": "code",
      "metadata": {
        "id": "NysMZwN6xdYt",
        "colab_type": "code",
        "colab": {
          "base_uri": "https://localhost:8080/",
          "height": 65
        },
        "outputId": "5d4f37d4-086b-4fa5-9b05-6c2154191da6"
      },
      "source": [
        "### Evaluations\n",
        "results_1 = bn_drop_model.evaluate(train_generator, verbose=0)\n",
        "print(f\" Training \\t Loss={results_1[0]} \\t Accuracy ={results_1[1]}\")\n",
        "\n",
        "results_2 = bn_drop_model.evaluate(validation_generator , verbose=0)\n",
        "print(f\" Validation \\t Loss={results_2[0]} \\t Accuracy ={results_2[1]}\")\n",
        "\n",
        "results_3 = bn_drop_model.evaluate(test_generator , verbose=0)\n",
        "print(f\" Test \\t Loss={results_3[0]} \\t Accuracy ={results_3[1]}\")"
      ],
      "execution_count": null,
      "outputs": [
        {
          "output_type": "stream",
          "text": [
            " Training \t Loss=0.07568126916885376 \t Accuracy =1.0\n",
            " Validation \t Loss=0.12537124752998352 \t Accuracy =0.9800000190734863\n",
            " Test \t Loss=0.34289267659187317 \t Accuracy =0.9382022619247437\n"
          ],
          "name": "stdout"
        }
      ]
    },
    {
      "cell_type": "code",
      "metadata": {
        "id": "_wGaqcqXxx_t",
        "colab_type": "code",
        "colab": {}
      },
      "source": [
        ""
      ],
      "execution_count": null,
      "outputs": []
    },
    {
      "cell_type": "markdown",
      "metadata": {
        "id": "gOyRsdIF0zaR",
        "colab_type": "text"
      },
      "source": [
        "# Final Model\n",
        "\n",
        "bn_drop_model (1024 -> 512 -> 256 -> 10)\n",
        "- With L2 Regularization \n",
        "- Dropout(0.5) + Batch Normalization For Generalizing"
      ]
    },
    {
      "cell_type": "markdown",
      "metadata": {
        "id": "wi04Vv641ycE",
        "colab_type": "text"
      },
      "source": [
        "## Data For Final Model \n",
        "  \n",
        "Trained on all of Training Dataset \n",
        "and Tested on Validation Dataset"
      ]
    },
    {
      "cell_type": "code",
      "metadata": {
        "id": "5a67n_9Q2NvL",
        "colab_type": "code",
        "colab": {
          "base_uri": "https://localhost:8080/",
          "height": 102
        },
        "outputId": "118d8116-0dd8-48b9-a5e6-80075154e715"
      },
      "source": [
        "train_datagen_final = ImageDataGenerator(rescale=1./255)\n",
        "\n",
        "train_generator_final = train_datagen_final.flow_from_directory(\n",
        "    train_dir, \n",
        "    target_size=(32,32), \n",
        "    color_mode='grayscale',\n",
        "    batch_size=32,\n",
        "    shuffle=True\n",
        ")\n",
        "\n",
        "test_datagen_final = ImageDataGenerator(rescale=1./255)\n",
        "test_generator_final = test_datagen_final.flow_from_directory(\n",
        "    val_dir,\n",
        "    target_size=(32,32), \n",
        "    color_mode='grayscale'\n",
        ")"
      ],
      "execution_count": null,
      "outputs": [
        {
          "output_type": "stream",
          "text": [
            "Found 1000 images belonging to 10 classes.\n",
            "Found 178 images belonging to 10 classes.\n"
          ],
          "name": "stdout"
        },
        {
          "output_type": "stream",
          "text": [
            "/usr/local/lib/python3.6/dist-packages/keras_preprocessing/image/utils.py:179: UserWarning: Using \".tiff\" files with multiple bands will cause distortion. Please verify your output.\n",
            "  warnings.warn('Using \".tiff\" files with multiple bands '\n"
          ],
          "name": "stderr"
        }
      ]
    },
    {
      "cell_type": "markdown",
      "metadata": {
        "id": "GGytP2mb07M2",
        "colab_type": "text"
      },
      "source": [
        ""
      ]
    },
    {
      "cell_type": "code",
      "metadata": {
        "id": "4P7UVH4Z013b",
        "colab_type": "code",
        "colab": {}
      },
      "source": [
        "## Model Definition\n",
        "\n",
        "bn_drop_model = tf.keras.models.Sequential([tf.keras.layers.Flatten(), \n",
        "                                    \n",
        "                                    tf.keras.layers.Dense(512, activation=tf.nn.relu, kernel_regularizer=tf.keras.regularizers.l2(l=0.01)),\n",
        "                                    tf.keras.layers.Dropout(0.5),\n",
        "                                    tf.keras.layers.BatchNormalization(),\n",
        "                                    \n",
        "\n",
        "                                    tf.keras.layers.Dense(256, activation=tf.nn.relu, kernel_regularizer=tf.keras.regularizers.l2(l=0.01)),\n",
        "                                    tf.keras.layers.Dropout(0.5),\n",
        "                                    tf.keras.layers.BatchNormalization(),\n",
        "                                    \n",
        "                                    \n",
        "                                    tf.keras.layers.Dense(10, activation=tf.nn.softmax)])"
      ],
      "execution_count": null,
      "outputs": []
    },
    {
      "cell_type": "code",
      "metadata": {
        "id": "VXGjnfQk1fUK",
        "colab_type": "code",
        "colab": {}
      },
      "source": [
        "## For Saving Model With Best Validation Loss\n",
        "\n",
        "from tensorflow.keras.callbacks import ModelCheckpoint\n",
        "\n",
        "final_model = 'final_model.hdf5'\n",
        "checkpoint = ModelCheckpoint(final_model, monitor='val_loss', verbose=0,\n",
        "                             save_best_only=True, save_weights_only=False,\n",
        "                             mode='auto')"
      ],
      "execution_count": null,
      "outputs": []
    },
    {
      "cell_type": "code",
      "metadata": {
        "id": "Z6Pd0cYO2_mF",
        "colab_type": "code",
        "colab": {}
      },
      "source": [
        "bn_drop_model.compile(optimizer = tf.keras.optimizers.Adam(learning_rate=0.0001),\n",
        "              loss = 'categorical_crossentropy',\n",
        "              metrics=['accuracy'])"
      ],
      "execution_count": null,
      "outputs": []
    },
    {
      "cell_type": "code",
      "metadata": {
        "id": "EsPk9KYe3Ep0",
        "colab_type": "code",
        "colab": {
          "base_uri": "https://localhost:8080/",
          "height": 151
        },
        "outputId": "e18c418e-5057-4342-d7c4-82d32afa4db2"
      },
      "source": [
        ""
      ],
      "execution_count": null,
      "outputs": [
        {
          "output_type": "stream",
          "text": [
            "Epoch 1/2\n",
            "30/32 [===========================>..] - ETA: 0s - loss: 12.9217 - accuracy: 0.1375WARNING:tensorflow:Can save best model only with val_loss available, skipping.\n",
            "32/32 [==============================] - 0s 7ms/step - loss: 12.9122 - accuracy: 0.1390\n",
            "Epoch 2/2\n",
            "31/32 [============================>.] - ETA: 0s - loss: 12.0503 - accuracy: 0.2893WARNING:tensorflow:Can save best model only with val_loss available, skipping.\n",
            "32/32 [==============================] - 0s 7ms/step - loss: 12.0358 - accuracy: 0.2920\n"
          ],
          "name": "stdout"
        },
        {
          "output_type": "execute_result",
          "data": {
            "text/plain": [
              "<tensorflow.python.keras.callbacks.History at 0x7f9d19c50be0>"
            ]
          },
          "metadata": {
            "tags": []
          },
          "execution_count": 92
        }
      ]
    },
    {
      "cell_type": "code",
      "metadata": {
        "id": "NJ-aVu2o3O3o",
        "colab_type": "code",
        "colab": {
          "base_uri": "https://localhost:8080/",
          "height": 1000
        },
        "outputId": "93f2e89d-1a25-4a39-e2c7-640ca60063f3"
      },
      "source": [
        "bn_drop_model.fit(train_generator, validation_data=test_generator_final , epochs=300, callbacks=[checkpoint])"
      ],
      "execution_count": null,
      "outputs": [
        {
          "output_type": "stream",
          "text": [
            "Epoch 1/300\n",
            "25/25 [==============================] - 0s 18ms/step - loss: 12.8721 - accuracy: 0.1500 - val_loss: 12.0310 - val_accuracy: 0.3876\n",
            "Epoch 2/300\n",
            "25/25 [==============================] - 0s 13ms/step - loss: 12.1695 - accuracy: 0.2800 - val_loss: 11.5710 - val_accuracy: 0.6461\n",
            "Epoch 3/300\n",
            "25/25 [==============================] - 0s 13ms/step - loss: 11.5801 - accuracy: 0.4313 - val_loss: 11.2033 - val_accuracy: 0.7022\n",
            "Epoch 4/300\n",
            "25/25 [==============================] - 0s 14ms/step - loss: 11.1935 - accuracy: 0.5250 - val_loss: 10.9018 - val_accuracy: 0.7697\n",
            "Epoch 5/300\n",
            "25/25 [==============================] - 0s 13ms/step - loss: 10.8923 - accuracy: 0.5913 - val_loss: 10.6497 - val_accuracy: 0.7809\n",
            "Epoch 6/300\n",
            "25/25 [==============================] - 0s 13ms/step - loss: 10.6204 - accuracy: 0.6550 - val_loss: 10.3880 - val_accuracy: 0.8202\n",
            "Epoch 7/300\n",
            "25/25 [==============================] - 0s 14ms/step - loss: 10.3422 - accuracy: 0.7362 - val_loss: 10.1504 - val_accuracy: 0.8371\n",
            "Epoch 8/300\n",
            "25/25 [==============================] - 0s 13ms/step - loss: 10.2099 - accuracy: 0.7150 - val_loss: 9.9696 - val_accuracy: 0.8652\n",
            "Epoch 9/300\n",
            "25/25 [==============================] - 0s 14ms/step - loss: 10.0279 - accuracy: 0.7538 - val_loss: 9.7754 - val_accuracy: 0.8820\n",
            "Epoch 10/300\n",
            "25/25 [==============================] - 0s 13ms/step - loss: 9.8675 - accuracy: 0.7613 - val_loss: 9.6408 - val_accuracy: 0.8764\n",
            "Epoch 11/300\n",
            "25/25 [==============================] - 0s 14ms/step - loss: 9.6541 - accuracy: 0.8087 - val_loss: 9.4868 - val_accuracy: 0.8989\n",
            "Epoch 12/300\n",
            "25/25 [==============================] - 0s 14ms/step - loss: 9.5138 - accuracy: 0.8037 - val_loss: 9.3555 - val_accuracy: 0.8989\n",
            "Epoch 13/300\n",
            "25/25 [==============================] - 0s 13ms/step - loss: 9.3833 - accuracy: 0.8250 - val_loss: 9.2180 - val_accuracy: 0.8989\n",
            "Epoch 14/300\n",
            "25/25 [==============================] - 0s 13ms/step - loss: 9.2404 - accuracy: 0.8550 - val_loss: 9.0979 - val_accuracy: 0.8933\n",
            "Epoch 15/300\n",
            "25/25 [==============================] - 0s 14ms/step - loss: 9.1038 - accuracy: 0.8675 - val_loss: 8.9765 - val_accuracy: 0.8876\n",
            "Epoch 16/300\n",
            "25/25 [==============================] - 0s 15ms/step - loss: 9.0019 - accuracy: 0.8612 - val_loss: 8.8590 - val_accuracy: 0.8933\n",
            "Epoch 17/300\n",
            "25/25 [==============================] - 0s 14ms/step - loss: 8.8785 - accuracy: 0.8763 - val_loss: 8.7497 - val_accuracy: 0.9101\n",
            "Epoch 18/300\n",
            "25/25 [==============================] - 0s 14ms/step - loss: 8.7727 - accuracy: 0.8737 - val_loss: 8.6482 - val_accuracy: 0.9101\n",
            "Epoch 19/300\n",
            "25/25 [==============================] - 0s 14ms/step - loss: 8.6601 - accuracy: 0.8763 - val_loss: 8.5191 - val_accuracy: 0.9213\n",
            "Epoch 20/300\n",
            "25/25 [==============================] - 0s 14ms/step - loss: 8.5220 - accuracy: 0.9038 - val_loss: 8.4411 - val_accuracy: 0.9213\n",
            "Epoch 21/300\n",
            "25/25 [==============================] - 0s 13ms/step - loss: 8.4245 - accuracy: 0.8975 - val_loss: 8.3369 - val_accuracy: 0.9157\n",
            "Epoch 22/300\n",
            "25/25 [==============================] - 0s 14ms/step - loss: 8.3425 - accuracy: 0.8913 - val_loss: 8.2306 - val_accuracy: 0.9101\n",
            "Epoch 23/300\n",
            "25/25 [==============================] - 0s 14ms/step - loss: 8.1819 - accuracy: 0.9225 - val_loss: 8.1344 - val_accuracy: 0.9157\n",
            "Epoch 24/300\n",
            "25/25 [==============================] - 0s 14ms/step - loss: 8.0971 - accuracy: 0.9212 - val_loss: 8.0252 - val_accuracy: 0.9270\n",
            "Epoch 25/300\n",
            "25/25 [==============================] - 0s 14ms/step - loss: 7.9675 - accuracy: 0.9350 - val_loss: 7.9192 - val_accuracy: 0.9270\n",
            "Epoch 26/300\n",
            "25/25 [==============================] - 0s 14ms/step - loss: 7.8841 - accuracy: 0.9375 - val_loss: 7.8322 - val_accuracy: 0.9213\n",
            "Epoch 27/300\n",
            "25/25 [==============================] - 0s 13ms/step - loss: 7.7772 - accuracy: 0.9300 - val_loss: 7.7457 - val_accuracy: 0.9326\n",
            "Epoch 28/300\n",
            "25/25 [==============================] - 0s 14ms/step - loss: 7.6552 - accuracy: 0.9488 - val_loss: 7.6506 - val_accuracy: 0.9326\n",
            "Epoch 29/300\n",
            "25/25 [==============================] - 0s 14ms/step - loss: 7.5925 - accuracy: 0.9425 - val_loss: 7.5360 - val_accuracy: 0.9494\n",
            "Epoch 30/300\n",
            "25/25 [==============================] - 0s 14ms/step - loss: 7.5121 - accuracy: 0.9388 - val_loss: 7.4455 - val_accuracy: 0.9326\n",
            "Epoch 31/300\n",
            "25/25 [==============================] - 0s 14ms/step - loss: 7.3864 - accuracy: 0.9538 - val_loss: 7.3700 - val_accuracy: 0.9213\n",
            "Epoch 32/300\n",
            "25/25 [==============================] - 0s 14ms/step - loss: 7.3193 - accuracy: 0.9337 - val_loss: 7.2921 - val_accuracy: 0.9270\n",
            "Epoch 33/300\n",
            "25/25 [==============================] - 0s 13ms/step - loss: 7.2133 - accuracy: 0.9488 - val_loss: 7.2040 - val_accuracy: 0.9213\n",
            "Epoch 34/300\n",
            "25/25 [==============================] - 0s 14ms/step - loss: 7.1319 - accuracy: 0.9425 - val_loss: 7.0960 - val_accuracy: 0.9382\n",
            "Epoch 35/300\n",
            "25/25 [==============================] - 0s 13ms/step - loss: 7.0299 - accuracy: 0.9475 - val_loss: 7.0071 - val_accuracy: 0.9270\n",
            "Epoch 36/300\n",
            "25/25 [==============================] - 0s 13ms/step - loss: 6.9149 - accuracy: 0.9675 - val_loss: 6.9164 - val_accuracy: 0.9326\n",
            "Epoch 37/300\n",
            "25/25 [==============================] - 0s 15ms/step - loss: 6.8676 - accuracy: 0.9400 - val_loss: 6.8271 - val_accuracy: 0.9326\n",
            "Epoch 38/300\n",
            "25/25 [==============================] - 0s 14ms/step - loss: 6.7511 - accuracy: 0.9575 - val_loss: 6.7550 - val_accuracy: 0.9438\n",
            "Epoch 39/300\n",
            "25/25 [==============================] - 0s 15ms/step - loss: 6.6838 - accuracy: 0.9600 - val_loss: 6.6654 - val_accuracy: 0.9382\n",
            "Epoch 40/300\n",
            "25/25 [==============================] - 0s 14ms/step - loss: 6.5785 - accuracy: 0.9588 - val_loss: 6.5867 - val_accuracy: 0.9326\n",
            "Epoch 41/300\n",
            "25/25 [==============================] - 0s 14ms/step - loss: 6.4924 - accuracy: 0.9525 - val_loss: 6.5015 - val_accuracy: 0.9438\n",
            "Epoch 42/300\n",
            "25/25 [==============================] - 0s 14ms/step - loss: 6.4099 - accuracy: 0.9588 - val_loss: 6.4094 - val_accuracy: 0.9494\n",
            "Epoch 43/300\n",
            "25/25 [==============================] - 0s 14ms/step - loss: 6.2813 - accuracy: 0.9800 - val_loss: 6.3233 - val_accuracy: 0.9438\n",
            "Epoch 44/300\n",
            "25/25 [==============================] - 0s 14ms/step - loss: 6.2222 - accuracy: 0.9600 - val_loss: 6.2374 - val_accuracy: 0.9494\n",
            "Epoch 45/300\n",
            "25/25 [==============================] - 0s 14ms/step - loss: 6.1441 - accuracy: 0.9638 - val_loss: 6.1584 - val_accuracy: 0.9438\n",
            "Epoch 46/300\n",
            "25/25 [==============================] - 0s 14ms/step - loss: 6.0490 - accuracy: 0.9613 - val_loss: 6.0789 - val_accuracy: 0.9438\n",
            "Epoch 47/300\n",
            "25/25 [==============================] - 0s 14ms/step - loss: 5.9709 - accuracy: 0.9700 - val_loss: 6.0041 - val_accuracy: 0.9438\n",
            "Epoch 48/300\n",
            "25/25 [==============================] - 0s 14ms/step - loss: 5.8853 - accuracy: 0.9712 - val_loss: 5.9158 - val_accuracy: 0.9382\n",
            "Epoch 49/300\n",
            "25/25 [==============================] - 0s 13ms/step - loss: 5.7891 - accuracy: 0.9812 - val_loss: 5.8260 - val_accuracy: 0.9438\n",
            "Epoch 50/300\n",
            "25/25 [==============================] - 0s 14ms/step - loss: 5.7111 - accuracy: 0.9775 - val_loss: 5.7519 - val_accuracy: 0.9438\n",
            "Epoch 51/300\n",
            "25/25 [==============================] - 0s 14ms/step - loss: 5.6333 - accuracy: 0.9775 - val_loss: 5.6761 - val_accuracy: 0.9551\n",
            "Epoch 52/300\n",
            "25/25 [==============================] - 0s 13ms/step - loss: 5.5624 - accuracy: 0.9737 - val_loss: 5.5968 - val_accuracy: 0.9551\n",
            "Epoch 53/300\n",
            "25/25 [==============================] - 0s 15ms/step - loss: 5.4715 - accuracy: 0.9750 - val_loss: 5.5161 - val_accuracy: 0.9494\n",
            "Epoch 54/300\n",
            "25/25 [==============================] - 0s 14ms/step - loss: 5.4068 - accuracy: 0.9638 - val_loss: 5.4304 - val_accuracy: 0.9607\n",
            "Epoch 55/300\n",
            "25/25 [==============================] - 0s 13ms/step - loss: 5.3281 - accuracy: 0.9762 - val_loss: 5.3676 - val_accuracy: 0.9438\n",
            "Epoch 56/300\n",
            "25/25 [==============================] - 0s 14ms/step - loss: 5.2484 - accuracy: 0.9638 - val_loss: 5.2909 - val_accuracy: 0.9382\n",
            "Epoch 57/300\n",
            "25/25 [==============================] - 0s 14ms/step - loss: 5.1572 - accuracy: 0.9700 - val_loss: 5.2241 - val_accuracy: 0.9382\n",
            "Epoch 58/300\n",
            "25/25 [==============================] - 0s 13ms/step - loss: 5.1011 - accuracy: 0.9737 - val_loss: 5.1324 - val_accuracy: 0.9551\n",
            "Epoch 59/300\n",
            "25/25 [==============================] - 0s 13ms/step - loss: 5.0278 - accuracy: 0.9737 - val_loss: 5.0827 - val_accuracy: 0.9270\n",
            "Epoch 60/300\n",
            "25/25 [==============================] - 0s 13ms/step - loss: 4.9397 - accuracy: 0.9800 - val_loss: 5.0018 - val_accuracy: 0.9382\n",
            "Epoch 61/300\n",
            "25/25 [==============================] - 0s 14ms/step - loss: 4.8829 - accuracy: 0.9750 - val_loss: 4.9127 - val_accuracy: 0.9494\n",
            "Epoch 62/300\n",
            "25/25 [==============================] - 0s 13ms/step - loss: 4.7920 - accuracy: 0.9862 - val_loss: 4.8596 - val_accuracy: 0.9382\n",
            "Epoch 63/300\n",
            "25/25 [==============================] - 0s 13ms/step - loss: 4.7102 - accuracy: 0.9850 - val_loss: 4.7782 - val_accuracy: 0.9438\n",
            "Epoch 64/300\n",
            "25/25 [==============================] - 0s 14ms/step - loss: 4.6370 - accuracy: 0.9850 - val_loss: 4.7179 - val_accuracy: 0.9438\n",
            "Epoch 65/300\n",
            "25/25 [==============================] - 0s 13ms/step - loss: 4.5902 - accuracy: 0.9750 - val_loss: 4.6507 - val_accuracy: 0.9494\n",
            "Epoch 66/300\n",
            "25/25 [==============================] - 0s 13ms/step - loss: 4.4933 - accuracy: 0.9800 - val_loss: 4.5748 - val_accuracy: 0.9551\n",
            "Epoch 67/300\n",
            "25/25 [==============================] - 0s 13ms/step - loss: 4.4287 - accuracy: 0.9825 - val_loss: 4.5158 - val_accuracy: 0.9494\n",
            "Epoch 68/300\n",
            "25/25 [==============================] - 1s 37ms/step - loss: 4.3807 - accuracy: 0.9737 - val_loss: 4.4267 - val_accuracy: 0.9551\n",
            "Epoch 69/300\n",
            "25/25 [==============================] - 0s 13ms/step - loss: 4.2912 - accuracy: 0.9825 - val_loss: 4.3657 - val_accuracy: 0.9494\n",
            "Epoch 70/300\n",
            "25/25 [==============================] - 0s 14ms/step - loss: 4.2249 - accuracy: 0.9862 - val_loss: 4.2903 - val_accuracy: 0.9551\n",
            "Epoch 71/300\n",
            "25/25 [==============================] - 0s 14ms/step - loss: 4.1606 - accuracy: 0.9800 - val_loss: 4.2173 - val_accuracy: 0.9607\n",
            "Epoch 72/300\n",
            "25/25 [==============================] - 0s 13ms/step - loss: 4.0974 - accuracy: 0.9825 - val_loss: 4.1696 - val_accuracy: 0.9551\n",
            "Epoch 73/300\n",
            "25/25 [==============================] - 0s 13ms/step - loss: 4.0226 - accuracy: 0.9875 - val_loss: 4.1031 - val_accuracy: 0.9438\n",
            "Epoch 74/300\n",
            "25/25 [==============================] - 0s 14ms/step - loss: 3.9506 - accuracy: 0.9850 - val_loss: 4.0378 - val_accuracy: 0.9382\n",
            "Epoch 75/300\n",
            "25/25 [==============================] - 0s 13ms/step - loss: 3.8902 - accuracy: 0.9887 - val_loss: 3.9818 - val_accuracy: 0.9494\n",
            "Epoch 76/300\n",
            "25/25 [==============================] - 0s 13ms/step - loss: 3.8400 - accuracy: 0.9812 - val_loss: 3.9110 - val_accuracy: 0.9551\n",
            "Epoch 77/300\n",
            "25/25 [==============================] - 0s 14ms/step - loss: 3.7749 - accuracy: 0.9812 - val_loss: 3.8632 - val_accuracy: 0.9382\n",
            "Epoch 78/300\n",
            "25/25 [==============================] - 0s 14ms/step - loss: 3.7029 - accuracy: 0.9887 - val_loss: 3.8033 - val_accuracy: 0.9382\n",
            "Epoch 79/300\n",
            "25/25 [==============================] - 0s 14ms/step - loss: 3.6385 - accuracy: 0.9912 - val_loss: 3.7425 - val_accuracy: 0.9382\n",
            "Epoch 80/300\n",
            "25/25 [==============================] - 0s 14ms/step - loss: 3.5897 - accuracy: 0.9850 - val_loss: 3.6795 - val_accuracy: 0.9438\n",
            "Epoch 81/300\n",
            "25/25 [==============================] - 0s 13ms/step - loss: 3.5287 - accuracy: 0.9800 - val_loss: 3.6040 - val_accuracy: 0.9551\n",
            "Epoch 82/300\n",
            "25/25 [==============================] - 0s 14ms/step - loss: 3.4639 - accuracy: 0.9900 - val_loss: 3.5354 - val_accuracy: 0.9551\n",
            "Epoch 83/300\n",
            "25/25 [==============================] - 0s 14ms/step - loss: 3.3951 - accuracy: 0.9925 - val_loss: 3.4876 - val_accuracy: 0.9663\n",
            "Epoch 84/300\n",
            "25/25 [==============================] - 0s 14ms/step - loss: 3.3394 - accuracy: 0.9887 - val_loss: 3.4260 - val_accuracy: 0.9494\n",
            "Epoch 85/300\n",
            "25/25 [==============================] - 0s 14ms/step - loss: 3.2866 - accuracy: 0.9912 - val_loss: 3.3731 - val_accuracy: 0.9438\n",
            "Epoch 86/300\n",
            "25/25 [==============================] - 0s 13ms/step - loss: 3.2238 - accuracy: 0.9925 - val_loss: 3.3170 - val_accuracy: 0.9607\n",
            "Epoch 87/300\n",
            "25/25 [==============================] - 0s 13ms/step - loss: 3.1858 - accuracy: 0.9812 - val_loss: 3.2649 - val_accuracy: 0.9551\n",
            "Epoch 88/300\n",
            "25/25 [==============================] - 0s 14ms/step - loss: 3.1249 - accuracy: 0.9937 - val_loss: 3.2036 - val_accuracy: 0.9607\n",
            "Epoch 89/300\n",
            "25/25 [==============================] - 0s 13ms/step - loss: 3.0740 - accuracy: 0.9875 - val_loss: 3.1434 - val_accuracy: 0.9551\n",
            "Epoch 90/300\n",
            "25/25 [==============================] - 0s 13ms/step - loss: 3.0212 - accuracy: 0.9887 - val_loss: 3.0971 - val_accuracy: 0.9551\n",
            "Epoch 91/300\n",
            "25/25 [==============================] - 0s 14ms/step - loss: 2.9728 - accuracy: 0.9875 - val_loss: 3.0402 - val_accuracy: 0.9607\n",
            "Epoch 92/300\n",
            "25/25 [==============================] - 0s 13ms/step - loss: 2.9201 - accuracy: 0.9875 - val_loss: 2.9962 - val_accuracy: 0.9607\n",
            "Epoch 93/300\n",
            "25/25 [==============================] - 0s 13ms/step - loss: 2.8739 - accuracy: 0.9837 - val_loss: 2.9621 - val_accuracy: 0.9551\n",
            "Epoch 94/300\n",
            "25/25 [==============================] - 0s 14ms/step - loss: 2.8381 - accuracy: 0.9825 - val_loss: 2.9144 - val_accuracy: 0.9494\n",
            "Epoch 95/300\n",
            "25/25 [==============================] - 0s 13ms/step - loss: 2.7953 - accuracy: 0.9762 - val_loss: 2.8324 - val_accuracy: 0.9607\n",
            "Epoch 96/300\n",
            "25/25 [==============================] - 0s 13ms/step - loss: 2.7311 - accuracy: 0.9812 - val_loss: 2.7840 - val_accuracy: 0.9607\n",
            "Epoch 97/300\n",
            "25/25 [==============================] - 0s 13ms/step - loss: 2.6615 - accuracy: 0.9912 - val_loss: 2.7698 - val_accuracy: 0.9494\n",
            "Epoch 98/300\n",
            "25/25 [==============================] - 0s 15ms/step - loss: 2.6249 - accuracy: 0.9887 - val_loss: 2.7449 - val_accuracy: 0.9382\n",
            "Epoch 99/300\n",
            "25/25 [==============================] - 0s 14ms/step - loss: 2.6106 - accuracy: 0.9750 - val_loss: 2.6632 - val_accuracy: 0.9494\n",
            "Epoch 100/300\n",
            "25/25 [==============================] - 0s 13ms/step - loss: 2.5470 - accuracy: 0.9825 - val_loss: 2.6225 - val_accuracy: 0.9551\n",
            "Epoch 101/300\n",
            "25/25 [==============================] - 0s 14ms/step - loss: 2.4909 - accuracy: 0.9850 - val_loss: 2.5802 - val_accuracy: 0.9551\n",
            "Epoch 102/300\n",
            "25/25 [==============================] - 0s 15ms/step - loss: 2.4542 - accuracy: 0.9850 - val_loss: 2.5603 - val_accuracy: 0.9438\n",
            "Epoch 103/300\n",
            "25/25 [==============================] - 0s 13ms/step - loss: 2.3973 - accuracy: 0.9900 - val_loss: 2.5091 - val_accuracy: 0.9494\n",
            "Epoch 104/300\n",
            "25/25 [==============================] - 0s 13ms/step - loss: 2.3695 - accuracy: 0.9825 - val_loss: 2.4645 - val_accuracy: 0.9438\n",
            "Epoch 105/300\n",
            "25/25 [==============================] - 0s 14ms/step - loss: 2.3282 - accuracy: 0.9837 - val_loss: 2.4219 - val_accuracy: 0.9551\n",
            "Epoch 106/300\n",
            "25/25 [==============================] - 0s 14ms/step - loss: 2.3156 - accuracy: 0.9787 - val_loss: 2.3822 - val_accuracy: 0.9438\n",
            "Epoch 107/300\n",
            "25/25 [==============================] - 0s 14ms/step - loss: 2.2648 - accuracy: 0.9737 - val_loss: 2.3421 - val_accuracy: 0.9551\n",
            "Epoch 108/300\n",
            "25/25 [==============================] - 0s 14ms/step - loss: 2.2206 - accuracy: 0.9825 - val_loss: 2.2836 - val_accuracy: 0.9551\n",
            "Epoch 109/300\n",
            "25/25 [==============================] - 0s 13ms/step - loss: 2.1674 - accuracy: 0.9850 - val_loss: 2.2595 - val_accuracy: 0.9494\n",
            "Epoch 110/300\n",
            "25/25 [==============================] - 0s 13ms/step - loss: 2.1424 - accuracy: 0.9787 - val_loss: 2.2290 - val_accuracy: 0.9494\n",
            "Epoch 111/300\n",
            "25/25 [==============================] - 0s 14ms/step - loss: 2.1123 - accuracy: 0.9787 - val_loss: 2.1984 - val_accuracy: 0.9438\n",
            "Epoch 112/300\n",
            "25/25 [==============================] - 0s 14ms/step - loss: 2.0764 - accuracy: 0.9775 - val_loss: 2.1633 - val_accuracy: 0.9551\n",
            "Epoch 113/300\n",
            "25/25 [==============================] - 0s 16ms/step - loss: 2.0623 - accuracy: 0.9688 - val_loss: 2.1277 - val_accuracy: 0.9494\n",
            "Epoch 114/300\n",
            "25/25 [==============================] - 0s 13ms/step - loss: 1.9921 - accuracy: 0.9850 - val_loss: 2.0719 - val_accuracy: 0.9551\n",
            "Epoch 115/300\n",
            "25/25 [==============================] - 0s 13ms/step - loss: 1.9552 - accuracy: 0.9837 - val_loss: 2.0587 - val_accuracy: 0.9551\n",
            "Epoch 116/300\n",
            "25/25 [==============================] - 0s 14ms/step - loss: 1.9388 - accuracy: 0.9812 - val_loss: 2.0363 - val_accuracy: 0.9382\n",
            "Epoch 117/300\n",
            "25/25 [==============================] - 0s 13ms/step - loss: 1.9014 - accuracy: 0.9762 - val_loss: 1.9533 - val_accuracy: 0.9494\n",
            "Epoch 118/300\n",
            "25/25 [==============================] - 0s 14ms/step - loss: 1.9037 - accuracy: 0.9712 - val_loss: 1.9275 - val_accuracy: 0.9494\n",
            "Epoch 119/300\n",
            "25/25 [==============================] - 0s 12ms/step - loss: 1.8379 - accuracy: 0.9825 - val_loss: 1.9295 - val_accuracy: 0.9438\n",
            "Epoch 120/300\n",
            "25/25 [==============================] - 0s 13ms/step - loss: 1.8170 - accuracy: 0.9712 - val_loss: 1.8872 - val_accuracy: 0.9494\n",
            "Epoch 121/300\n",
            "25/25 [==============================] - 0s 14ms/step - loss: 1.7713 - accuracy: 0.9775 - val_loss: 1.8205 - val_accuracy: 0.9551\n",
            "Epoch 122/300\n",
            "25/25 [==============================] - 0s 12ms/step - loss: 1.7327 - accuracy: 0.9862 - val_loss: 1.8323 - val_accuracy: 0.9551\n",
            "Epoch 123/300\n",
            "25/25 [==============================] - 0s 13ms/step - loss: 1.6961 - accuracy: 0.9875 - val_loss: 1.7731 - val_accuracy: 0.9494\n",
            "Epoch 124/300\n",
            "25/25 [==============================] - 0s 14ms/step - loss: 1.6838 - accuracy: 0.9837 - val_loss: 1.7253 - val_accuracy: 0.9494\n",
            "Epoch 125/300\n",
            "25/25 [==============================] - 0s 14ms/step - loss: 1.6439 - accuracy: 0.9850 - val_loss: 1.7160 - val_accuracy: 0.9494\n",
            "Epoch 126/300\n",
            "25/25 [==============================] - 0s 14ms/step - loss: 1.6198 - accuracy: 0.9850 - val_loss: 1.7005 - val_accuracy: 0.9607\n",
            "Epoch 127/300\n",
            "25/25 [==============================] - 0s 15ms/step - loss: 1.5785 - accuracy: 0.9925 - val_loss: 1.6866 - val_accuracy: 0.9551\n",
            "Epoch 128/300\n",
            "25/25 [==============================] - 0s 13ms/step - loss: 1.5697 - accuracy: 0.9750 - val_loss: 1.6284 - val_accuracy: 0.9663\n",
            "Epoch 129/300\n",
            "25/25 [==============================] - 0s 12ms/step - loss: 1.5545 - accuracy: 0.9700 - val_loss: 1.6660 - val_accuracy: 0.9382\n",
            "Epoch 130/300\n",
            "25/25 [==============================] - 0s 14ms/step - loss: 1.5407 - accuracy: 0.9688 - val_loss: 1.6179 - val_accuracy: 0.9438\n",
            "Epoch 131/300\n",
            "25/25 [==============================] - 0s 13ms/step - loss: 1.5233 - accuracy: 0.9700 - val_loss: 1.5553 - val_accuracy: 0.9494\n",
            "Epoch 132/300\n",
            "25/25 [==============================] - 0s 13ms/step - loss: 1.5057 - accuracy: 0.9625 - val_loss: 1.5342 - val_accuracy: 0.9551\n",
            "Epoch 133/300\n",
            "25/25 [==============================] - 0s 14ms/step - loss: 1.4621 - accuracy: 0.9725 - val_loss: 1.5280 - val_accuracy: 0.9382\n",
            "Epoch 134/300\n",
            "25/25 [==============================] - 0s 12ms/step - loss: 1.4269 - accuracy: 0.9787 - val_loss: 1.5601 - val_accuracy: 0.9382\n",
            "Epoch 135/300\n",
            "25/25 [==============================] - 0s 13ms/step - loss: 1.3948 - accuracy: 0.9812 - val_loss: 1.4772 - val_accuracy: 0.9494\n",
            "Epoch 136/300\n",
            "25/25 [==============================] - 0s 12ms/step - loss: 1.3884 - accuracy: 0.9700 - val_loss: 1.5068 - val_accuracy: 0.9438\n",
            "Epoch 137/300\n",
            "25/25 [==============================] - 0s 13ms/step - loss: 1.3518 - accuracy: 0.9775 - val_loss: 1.4211 - val_accuracy: 0.9438\n",
            "Epoch 138/300\n",
            "25/25 [==============================] - 0s 14ms/step - loss: 1.3391 - accuracy: 0.9712 - val_loss: 1.3638 - val_accuracy: 0.9551\n",
            "Epoch 139/300\n",
            "25/25 [==============================] - 0s 12ms/step - loss: 1.3250 - accuracy: 0.9700 - val_loss: 1.4187 - val_accuracy: 0.9382\n",
            "Epoch 140/300\n",
            "25/25 [==============================] - 0s 12ms/step - loss: 1.3145 - accuracy: 0.9675 - val_loss: 1.4061 - val_accuracy: 0.9382\n",
            "Epoch 141/300\n",
            "25/25 [==============================] - 0s 14ms/step - loss: 1.3032 - accuracy: 0.9700 - val_loss: 1.3248 - val_accuracy: 0.9438\n",
            "Epoch 142/300\n",
            "25/25 [==============================] - 0s 16ms/step - loss: 1.2712 - accuracy: 0.9675 - val_loss: 1.3008 - val_accuracy: 0.9494\n",
            "Epoch 143/300\n",
            "25/25 [==============================] - 0s 13ms/step - loss: 1.2422 - accuracy: 0.9650 - val_loss: 1.2981 - val_accuracy: 0.9551\n",
            "Epoch 144/300\n",
            "25/25 [==============================] - 0s 13ms/step - loss: 1.2222 - accuracy: 0.9725 - val_loss: 1.2608 - val_accuracy: 0.9551\n",
            "Epoch 145/300\n",
            "25/25 [==============================] - 0s 12ms/step - loss: 1.2240 - accuracy: 0.9675 - val_loss: 1.3557 - val_accuracy: 0.9213\n",
            "Epoch 146/300\n",
            "25/25 [==============================] - 0s 12ms/step - loss: 1.1894 - accuracy: 0.9725 - val_loss: 1.3053 - val_accuracy: 0.9494\n",
            "Epoch 147/300\n",
            "25/25 [==============================] - 0s 13ms/step - loss: 1.1716 - accuracy: 0.9663 - val_loss: 1.2597 - val_accuracy: 0.9270\n",
            "Epoch 148/300\n",
            "25/25 [==============================] - 0s 12ms/step - loss: 1.1545 - accuracy: 0.9712 - val_loss: 1.2639 - val_accuracy: 0.9494\n",
            "Epoch 149/300\n",
            "25/25 [==============================] - 0s 13ms/step - loss: 1.1389 - accuracy: 0.9688 - val_loss: 1.2315 - val_accuracy: 0.9438\n",
            "Epoch 150/300\n",
            "25/25 [==============================] - 0s 14ms/step - loss: 1.1281 - accuracy: 0.9663 - val_loss: 1.2151 - val_accuracy: 0.9438\n",
            "Epoch 151/300\n",
            "25/25 [==============================] - 0s 14ms/step - loss: 1.1152 - accuracy: 0.9688 - val_loss: 1.1649 - val_accuracy: 0.9438\n",
            "Epoch 152/300\n",
            "25/25 [==============================] - 0s 13ms/step - loss: 1.1063 - accuracy: 0.9563 - val_loss: 1.1331 - val_accuracy: 0.9438\n",
            "Epoch 153/300\n",
            "25/25 [==============================] - 0s 14ms/step - loss: 1.0854 - accuracy: 0.9600 - val_loss: 1.1225 - val_accuracy: 0.9607\n",
            "Epoch 154/300\n",
            "25/25 [==============================] - 0s 13ms/step - loss: 1.0560 - accuracy: 0.9675 - val_loss: 1.1140 - val_accuracy: 0.9438\n",
            "Epoch 155/300\n",
            "25/25 [==============================] - 0s 14ms/step - loss: 1.0402 - accuracy: 0.9675 - val_loss: 1.0757 - val_accuracy: 0.9494\n",
            "Epoch 156/300\n",
            "25/25 [==============================] - 0s 14ms/step - loss: 1.0363 - accuracy: 0.9625 - val_loss: 1.0773 - val_accuracy: 0.9438\n",
            "Epoch 157/300\n",
            "25/25 [==============================] - 0s 13ms/step - loss: 1.0110 - accuracy: 0.9650 - val_loss: 1.0384 - val_accuracy: 0.9607\n",
            "Epoch 158/300\n",
            "25/25 [==============================] - 0s 12ms/step - loss: 1.0219 - accuracy: 0.9500 - val_loss: 1.1105 - val_accuracy: 0.9382\n",
            "Epoch 159/300\n",
            "25/25 [==============================] - 0s 12ms/step - loss: 0.9912 - accuracy: 0.9650 - val_loss: 1.0654 - val_accuracy: 0.9382\n",
            "Epoch 160/300\n",
            "25/25 [==============================] - 0s 11ms/step - loss: 0.9864 - accuracy: 0.9588 - val_loss: 1.0500 - val_accuracy: 0.9438\n",
            "Epoch 161/300\n",
            "25/25 [==============================] - 0s 12ms/step - loss: 0.9542 - accuracy: 0.9663 - val_loss: 1.1258 - val_accuracy: 0.9326\n",
            "Epoch 162/300\n",
            "25/25 [==============================] - 0s 14ms/step - loss: 0.9610 - accuracy: 0.9538 - val_loss: 1.0176 - val_accuracy: 0.9438\n",
            "Epoch 163/300\n",
            "25/25 [==============================] - 0s 13ms/step - loss: 0.9394 - accuracy: 0.9525 - val_loss: 0.9525 - val_accuracy: 0.9494\n",
            "Epoch 164/300\n",
            "25/25 [==============================] - 0s 13ms/step - loss: 0.9250 - accuracy: 0.9550 - val_loss: 0.9507 - val_accuracy: 0.9607\n",
            "Epoch 165/300\n",
            "25/25 [==============================] - 0s 12ms/step - loss: 0.9136 - accuracy: 0.9550 - val_loss: 1.0165 - val_accuracy: 0.9382\n",
            "Epoch 166/300\n",
            "25/25 [==============================] - 0s 12ms/step - loss: 0.8967 - accuracy: 0.9563 - val_loss: 0.9580 - val_accuracy: 0.9382\n",
            "Epoch 167/300\n",
            "25/25 [==============================] - 0s 12ms/step - loss: 0.8739 - accuracy: 0.9613 - val_loss: 0.9545 - val_accuracy: 0.9551\n",
            "Epoch 168/300\n",
            "25/25 [==============================] - 0s 14ms/step - loss: 0.8706 - accuracy: 0.9600 - val_loss: 0.9460 - val_accuracy: 0.9494\n",
            "Epoch 169/300\n",
            "25/25 [==============================] - 0s 14ms/step - loss: 0.8545 - accuracy: 0.9625 - val_loss: 0.8858 - val_accuracy: 0.9607\n",
            "Epoch 170/300\n",
            "25/25 [==============================] - 0s 12ms/step - loss: 0.8368 - accuracy: 0.9613 - val_loss: 0.9214 - val_accuracy: 0.9438\n",
            "Epoch 171/300\n",
            "25/25 [==============================] - 0s 12ms/step - loss: 0.7954 - accuracy: 0.9737 - val_loss: 0.8955 - val_accuracy: 0.9382\n",
            "Epoch 172/300\n",
            "25/25 [==============================] - 0s 12ms/step - loss: 0.8435 - accuracy: 0.9538 - val_loss: 0.9683 - val_accuracy: 0.8989\n",
            "Epoch 173/300\n",
            "25/25 [==============================] - 0s 15ms/step - loss: 0.8257 - accuracy: 0.9525 - val_loss: 0.8492 - val_accuracy: 0.9382\n",
            "Epoch 174/300\n",
            "25/25 [==============================] - 0s 14ms/step - loss: 0.8269 - accuracy: 0.9500 - val_loss: 0.8468 - val_accuracy: 0.9551\n",
            "Epoch 175/300\n",
            "25/25 [==============================] - 0s 12ms/step - loss: 0.7972 - accuracy: 0.9463 - val_loss: 0.8647 - val_accuracy: 0.9382\n",
            "Epoch 176/300\n",
            "25/25 [==============================] - 0s 12ms/step - loss: 0.7721 - accuracy: 0.9588 - val_loss: 0.8546 - val_accuracy: 0.9438\n",
            "Epoch 177/300\n",
            "25/25 [==============================] - 0s 14ms/step - loss: 0.7353 - accuracy: 0.9700 - val_loss: 0.8391 - val_accuracy: 0.9438\n",
            "Epoch 178/300\n",
            "25/25 [==============================] - 0s 13ms/step - loss: 0.7680 - accuracy: 0.9525 - val_loss: 0.8135 - val_accuracy: 0.9494\n",
            "Epoch 179/300\n",
            "25/25 [==============================] - 0s 12ms/step - loss: 0.7603 - accuracy: 0.9500 - val_loss: 0.8159 - val_accuracy: 0.9494\n",
            "Epoch 180/300\n",
            "25/25 [==============================] - 0s 14ms/step - loss: 0.7703 - accuracy: 0.9425 - val_loss: 0.7905 - val_accuracy: 0.9551\n",
            "Epoch 181/300\n",
            "25/25 [==============================] - 0s 12ms/step - loss: 0.7121 - accuracy: 0.9638 - val_loss: 0.7934 - val_accuracy: 0.9551\n",
            "Epoch 182/300\n",
            "25/25 [==============================] - 0s 15ms/step - loss: 0.7037 - accuracy: 0.9675 - val_loss: 0.7671 - val_accuracy: 0.9494\n",
            "Epoch 183/300\n",
            "25/25 [==============================] - 0s 13ms/step - loss: 0.7058 - accuracy: 0.9638 - val_loss: 0.7828 - val_accuracy: 0.9551\n",
            "Epoch 184/300\n",
            "25/25 [==============================] - 0s 14ms/step - loss: 0.7305 - accuracy: 0.9400 - val_loss: 0.7471 - val_accuracy: 0.9494\n",
            "Epoch 185/300\n",
            "25/25 [==============================] - 0s 12ms/step - loss: 0.7193 - accuracy: 0.9550 - val_loss: 0.8212 - val_accuracy: 0.9213\n",
            "Epoch 186/300\n",
            "25/25 [==============================] - 0s 14ms/step - loss: 0.7016 - accuracy: 0.9413 - val_loss: 0.7382 - val_accuracy: 0.9551\n",
            "Epoch 187/300\n",
            "25/25 [==============================] - 0s 14ms/step - loss: 0.6954 - accuracy: 0.9500 - val_loss: 0.7360 - val_accuracy: 0.9551\n",
            "Epoch 188/300\n",
            "25/25 [==============================] - 0s 13ms/step - loss: 0.6934 - accuracy: 0.9475 - val_loss: 0.7378 - val_accuracy: 0.9494\n",
            "Epoch 189/300\n",
            "25/25 [==============================] - 0s 14ms/step - loss: 0.7072 - accuracy: 0.9425 - val_loss: 0.7308 - val_accuracy: 0.9494\n",
            "Epoch 190/300\n",
            "25/25 [==============================] - 0s 14ms/step - loss: 0.6799 - accuracy: 0.9513 - val_loss: 0.7271 - val_accuracy: 0.9382\n",
            "Epoch 191/300\n",
            "25/25 [==============================] - 0s 14ms/step - loss: 0.6157 - accuracy: 0.9600 - val_loss: 0.6678 - val_accuracy: 0.9551\n",
            "Epoch 192/300\n",
            "25/25 [==============================] - 0s 12ms/step - loss: 0.6576 - accuracy: 0.9475 - val_loss: 0.7551 - val_accuracy: 0.9326\n",
            "Epoch 193/300\n",
            "25/25 [==============================] - 0s 14ms/step - loss: 0.6598 - accuracy: 0.9538 - val_loss: 0.6639 - val_accuracy: 0.9382\n",
            "Epoch 194/300\n",
            "25/25 [==============================] - 0s 12ms/step - loss: 0.6047 - accuracy: 0.9588 - val_loss: 0.7105 - val_accuracy: 0.9438\n",
            "Epoch 195/300\n",
            "25/25 [==============================] - 0s 13ms/step - loss: 0.5967 - accuracy: 0.9563 - val_loss: 0.6652 - val_accuracy: 0.9494\n",
            "Epoch 196/300\n",
            "25/25 [==============================] - 0s 12ms/step - loss: 0.6308 - accuracy: 0.9550 - val_loss: 0.6976 - val_accuracy: 0.9326\n",
            "Epoch 197/300\n",
            "25/25 [==============================] - 0s 13ms/step - loss: 0.5835 - accuracy: 0.9650 - val_loss: 0.6635 - val_accuracy: 0.9494\n",
            "Epoch 198/300\n",
            "25/25 [==============================] - 0s 14ms/step - loss: 0.5908 - accuracy: 0.9575 - val_loss: 0.6206 - val_accuracy: 0.9494\n",
            "Epoch 199/300\n",
            "25/25 [==============================] - 0s 14ms/step - loss: 0.6103 - accuracy: 0.9475 - val_loss: 0.5960 - val_accuracy: 0.9551\n",
            "Epoch 200/300\n",
            "25/25 [==============================] - 0s 12ms/step - loss: 0.5686 - accuracy: 0.9600 - val_loss: 0.6696 - val_accuracy: 0.9326\n",
            "Epoch 201/300\n",
            "25/25 [==============================] - 0s 12ms/step - loss: 0.5606 - accuracy: 0.9575 - val_loss: 0.7036 - val_accuracy: 0.9382\n",
            "Epoch 202/300\n",
            "25/25 [==============================] - 0s 12ms/step - loss: 0.6322 - accuracy: 0.9287 - val_loss: 0.6374 - val_accuracy: 0.9382\n",
            "Epoch 203/300\n",
            "25/25 [==============================] - 0s 12ms/step - loss: 0.6118 - accuracy: 0.9413 - val_loss: 0.6253 - val_accuracy: 0.9438\n",
            "Epoch 204/300\n",
            "25/25 [==============================] - 0s 14ms/step - loss: 0.6095 - accuracy: 0.9287 - val_loss: 0.6301 - val_accuracy: 0.9270\n",
            "Epoch 205/300\n",
            "25/25 [==============================] - 0s 12ms/step - loss: 0.6089 - accuracy: 0.9312 - val_loss: 0.6666 - val_accuracy: 0.9213\n",
            "Epoch 206/300\n",
            "25/25 [==============================] - 0s 12ms/step - loss: 0.5728 - accuracy: 0.9413 - val_loss: 0.6305 - val_accuracy: 0.9494\n",
            "Epoch 207/300\n",
            "25/25 [==============================] - 0s 14ms/step - loss: 0.6006 - accuracy: 0.9262 - val_loss: 0.5743 - val_accuracy: 0.9551\n",
            "Epoch 208/300\n",
            "25/25 [==============================] - 0s 12ms/step - loss: 0.5770 - accuracy: 0.9375 - val_loss: 0.5795 - val_accuracy: 0.9438\n",
            "Epoch 209/300\n",
            "25/25 [==============================] - 0s 12ms/step - loss: 0.5782 - accuracy: 0.9337 - val_loss: 0.5841 - val_accuracy: 0.9382\n",
            "Epoch 210/300\n",
            "25/25 [==============================] - 0s 12ms/step - loss: 0.5657 - accuracy: 0.9362 - val_loss: 0.6243 - val_accuracy: 0.9382\n",
            "Epoch 211/300\n",
            "25/25 [==============================] - 0s 12ms/step - loss: 0.6182 - accuracy: 0.9100 - val_loss: 0.6428 - val_accuracy: 0.9270\n",
            "Epoch 212/300\n",
            "25/25 [==============================] - 0s 12ms/step - loss: 0.6277 - accuracy: 0.9162 - val_loss: 0.6455 - val_accuracy: 0.9438\n",
            "Epoch 213/300\n",
            "25/25 [==============================] - 0s 14ms/step - loss: 0.5313 - accuracy: 0.9337 - val_loss: 0.5707 - val_accuracy: 0.9382\n",
            "Epoch 214/300\n",
            "25/25 [==============================] - 0s 13ms/step - loss: 0.5602 - accuracy: 0.9250 - val_loss: 0.5949 - val_accuracy: 0.9270\n",
            "Epoch 215/300\n",
            "25/25 [==============================] - 0s 14ms/step - loss: 0.5360 - accuracy: 0.9425 - val_loss: 0.5337 - val_accuracy: 0.9494\n",
            "Epoch 216/300\n",
            "25/25 [==============================] - 0s 12ms/step - loss: 0.4804 - accuracy: 0.9563 - val_loss: 0.5855 - val_accuracy: 0.9494\n",
            "Epoch 217/300\n",
            "25/25 [==============================] - 0s 12ms/step - loss: 0.5385 - accuracy: 0.9388 - val_loss: 0.5459 - val_accuracy: 0.9438\n",
            "Epoch 218/300\n",
            "25/25 [==============================] - 0s 12ms/step - loss: 0.5228 - accuracy: 0.9375 - val_loss: 0.5546 - val_accuracy: 0.9494\n",
            "Epoch 219/300\n",
            "25/25 [==============================] - 0s 12ms/step - loss: 0.4750 - accuracy: 0.9563 - val_loss: 0.5557 - val_accuracy: 0.9382\n",
            "Epoch 220/300\n",
            "25/25 [==============================] - 0s 12ms/step - loss: 0.4829 - accuracy: 0.9488 - val_loss: 0.5489 - val_accuracy: 0.9551\n",
            "Epoch 221/300\n",
            "25/25 [==============================] - 0s 12ms/step - loss: 0.5153 - accuracy: 0.9350 - val_loss: 0.5450 - val_accuracy: 0.9438\n",
            "Epoch 222/300\n",
            "25/25 [==============================] - 0s 14ms/step - loss: 0.5008 - accuracy: 0.9438 - val_loss: 0.5453 - val_accuracy: 0.9382\n",
            "Epoch 223/300\n",
            "25/25 [==============================] - 0s 13ms/step - loss: 0.4604 - accuracy: 0.9563 - val_loss: 0.5231 - val_accuracy: 0.9494\n",
            "Epoch 224/300\n",
            "25/25 [==============================] - 0s 12ms/step - loss: 0.4911 - accuracy: 0.9463 - val_loss: 0.5670 - val_accuracy: 0.9438\n",
            "Epoch 225/300\n",
            "25/25 [==============================] - 0s 13ms/step - loss: 0.5139 - accuracy: 0.9225 - val_loss: 0.4671 - val_accuracy: 0.9551\n",
            "Epoch 226/300\n",
            "25/25 [==============================] - 0s 12ms/step - loss: 0.5096 - accuracy: 0.9262 - val_loss: 0.5552 - val_accuracy: 0.9382\n",
            "Epoch 227/300\n",
            "25/25 [==============================] - 0s 12ms/step - loss: 0.4414 - accuracy: 0.9575 - val_loss: 0.5325 - val_accuracy: 0.9382\n",
            "Epoch 228/300\n",
            "25/25 [==============================] - 0s 12ms/step - loss: 0.4735 - accuracy: 0.9287 - val_loss: 0.5192 - val_accuracy: 0.9494\n",
            "Epoch 229/300\n",
            "25/25 [==============================] - 0s 12ms/step - loss: 0.4360 - accuracy: 0.9513 - val_loss: 0.4865 - val_accuracy: 0.9551\n",
            "Epoch 230/300\n",
            "25/25 [==============================] - 0s 12ms/step - loss: 0.4812 - accuracy: 0.9413 - val_loss: 0.4837 - val_accuracy: 0.9438\n",
            "Epoch 231/300\n",
            "25/25 [==============================] - 0s 12ms/step - loss: 0.4583 - accuracy: 0.9450 - val_loss: 0.4711 - val_accuracy: 0.9551\n",
            "Epoch 232/300\n",
            "25/25 [==============================] - 0s 14ms/step - loss: 0.4439 - accuracy: 0.9413 - val_loss: 0.4484 - val_accuracy: 0.9551\n",
            "Epoch 233/300\n",
            "25/25 [==============================] - 0s 12ms/step - loss: 0.4247 - accuracy: 0.9525 - val_loss: 0.5228 - val_accuracy: 0.9326\n",
            "Epoch 234/300\n",
            "25/25 [==============================] - 0s 12ms/step - loss: 0.4666 - accuracy: 0.9362 - val_loss: 0.4904 - val_accuracy: 0.9382\n",
            "Epoch 235/300\n",
            "25/25 [==============================] - 0s 12ms/step - loss: 0.4415 - accuracy: 0.9513 - val_loss: 0.4581 - val_accuracy: 0.9494\n",
            "Epoch 236/300\n",
            "25/25 [==============================] - 0s 12ms/step - loss: 0.4394 - accuracy: 0.9388 - val_loss: 0.4838 - val_accuracy: 0.9494\n",
            "Epoch 237/300\n",
            "25/25 [==============================] - 0s 13ms/step - loss: 0.4501 - accuracy: 0.9388 - val_loss: 0.4609 - val_accuracy: 0.9551\n",
            "Epoch 238/300\n",
            "25/25 [==============================] - 0s 12ms/step - loss: 0.4502 - accuracy: 0.9337 - val_loss: 0.4532 - val_accuracy: 0.9494\n",
            "Epoch 239/300\n",
            "25/25 [==============================] - 0s 12ms/step - loss: 0.4064 - accuracy: 0.9475 - val_loss: 0.4764 - val_accuracy: 0.9494\n",
            "Epoch 240/300\n",
            "25/25 [==============================] - 0s 12ms/step - loss: 0.4508 - accuracy: 0.9325 - val_loss: 0.4562 - val_accuracy: 0.9494\n",
            "Epoch 241/300\n",
            "25/25 [==============================] - 0s 12ms/step - loss: 0.4287 - accuracy: 0.9400 - val_loss: 0.4696 - val_accuracy: 0.9438\n",
            "Epoch 242/300\n",
            "25/25 [==============================] - 0s 12ms/step - loss: 0.4498 - accuracy: 0.9312 - val_loss: 0.4872 - val_accuracy: 0.9382\n",
            "Epoch 243/300\n",
            "25/25 [==============================] - 0s 12ms/step - loss: 0.4386 - accuracy: 0.9375 - val_loss: 0.4494 - val_accuracy: 0.9494\n",
            "Epoch 244/300\n",
            "25/25 [==============================] - 0s 13ms/step - loss: 0.4247 - accuracy: 0.9438 - val_loss: 0.4269 - val_accuracy: 0.9494\n",
            "Epoch 245/300\n",
            "25/25 [==============================] - 0s 12ms/step - loss: 0.4537 - accuracy: 0.9212 - val_loss: 0.4900 - val_accuracy: 0.9270\n",
            "Epoch 246/300\n",
            "25/25 [==============================] - 0s 12ms/step - loss: 0.4088 - accuracy: 0.9450 - val_loss: 0.4441 - val_accuracy: 0.9551\n",
            "Epoch 247/300\n",
            "25/25 [==============================] - 0s 12ms/step - loss: 0.4005 - accuracy: 0.9513 - val_loss: 0.4427 - val_accuracy: 0.9438\n",
            "Epoch 248/300\n",
            "25/25 [==============================] - 0s 12ms/step - loss: 0.4290 - accuracy: 0.9425 - val_loss: 0.4465 - val_accuracy: 0.9494\n",
            "Epoch 249/300\n",
            "25/25 [==============================] - 0s 13ms/step - loss: 0.3971 - accuracy: 0.9400 - val_loss: 0.4095 - val_accuracy: 0.9551\n",
            "Epoch 250/300\n",
            "25/25 [==============================] - 0s 14ms/step - loss: 0.4107 - accuracy: 0.9388 - val_loss: 0.4037 - val_accuracy: 0.9382\n",
            "Epoch 251/300\n",
            "25/25 [==============================] - 0s 13ms/step - loss: 0.4210 - accuracy: 0.9362 - val_loss: 0.4370 - val_accuracy: 0.9438\n",
            "Epoch 252/300\n",
            "25/25 [==============================] - 0s 12ms/step - loss: 0.4075 - accuracy: 0.9413 - val_loss: 0.4264 - val_accuracy: 0.9438\n",
            "Epoch 253/300\n",
            "25/25 [==============================] - 0s 12ms/step - loss: 0.4003 - accuracy: 0.9438 - val_loss: 0.4399 - val_accuracy: 0.9551\n",
            "Epoch 254/300\n",
            "25/25 [==============================] - 0s 12ms/step - loss: 0.3975 - accuracy: 0.9425 - val_loss: 0.4406 - val_accuracy: 0.9382\n",
            "Epoch 255/300\n",
            "25/25 [==============================] - 0s 12ms/step - loss: 0.3946 - accuracy: 0.9488 - val_loss: 0.4246 - val_accuracy: 0.9494\n",
            "Epoch 256/300\n",
            "25/25 [==============================] - 0s 14ms/step - loss: 0.4278 - accuracy: 0.9287 - val_loss: 0.3771 - val_accuracy: 0.9494\n",
            "Epoch 257/300\n",
            "25/25 [==============================] - 0s 13ms/step - loss: 0.3881 - accuracy: 0.9463 - val_loss: 0.4057 - val_accuracy: 0.9494\n",
            "Epoch 258/300\n",
            "25/25 [==============================] - 0s 12ms/step - loss: 0.3962 - accuracy: 0.9350 - val_loss: 0.3942 - val_accuracy: 0.9551\n",
            "Epoch 259/300\n",
            "25/25 [==============================] - 0s 13ms/step - loss: 0.3766 - accuracy: 0.9475 - val_loss: 0.3844 - val_accuracy: 0.9551\n",
            "Epoch 260/300\n",
            "25/25 [==============================] - 0s 13ms/step - loss: 0.3959 - accuracy: 0.9362 - val_loss: 0.4528 - val_accuracy: 0.9270\n",
            "Epoch 261/300\n",
            "25/25 [==============================] - 0s 12ms/step - loss: 0.3810 - accuracy: 0.9413 - val_loss: 0.3806 - val_accuracy: 0.9551\n",
            "Epoch 262/300\n",
            "25/25 [==============================] - 0s 12ms/step - loss: 0.3684 - accuracy: 0.9500 - val_loss: 0.4747 - val_accuracy: 0.9326\n",
            "Epoch 263/300\n",
            "25/25 [==============================] - 0s 12ms/step - loss: 0.3580 - accuracy: 0.9600 - val_loss: 0.4198 - val_accuracy: 0.9494\n",
            "Epoch 264/300\n",
            "25/25 [==============================] - 0s 12ms/step - loss: 0.3776 - accuracy: 0.9400 - val_loss: 0.4102 - val_accuracy: 0.9494\n",
            "Epoch 265/300\n",
            "25/25 [==============================] - 0s 12ms/step - loss: 0.3428 - accuracy: 0.9538 - val_loss: 0.4380 - val_accuracy: 0.9382\n",
            "Epoch 266/300\n",
            "25/25 [==============================] - 0s 12ms/step - loss: 0.3965 - accuracy: 0.9275 - val_loss: 0.4097 - val_accuracy: 0.9494\n",
            "Epoch 267/300\n",
            "25/25 [==============================] - 0s 12ms/step - loss: 0.3660 - accuracy: 0.9400 - val_loss: 0.3877 - val_accuracy: 0.9551\n",
            "Epoch 268/300\n",
            "25/25 [==============================] - 0s 13ms/step - loss: 0.3805 - accuracy: 0.9362 - val_loss: 0.3910 - val_accuracy: 0.9551\n",
            "Epoch 269/300\n",
            "25/25 [==============================] - 0s 12ms/step - loss: 0.4000 - accuracy: 0.9400 - val_loss: 0.4217 - val_accuracy: 0.9213\n",
            "Epoch 270/300\n",
            "25/25 [==============================] - 0s 13ms/step - loss: 0.4135 - accuracy: 0.9362 - val_loss: 0.3778 - val_accuracy: 0.9551\n",
            "Epoch 271/300\n",
            "25/25 [==============================] - 0s 14ms/step - loss: 0.3653 - accuracy: 0.9413 - val_loss: 0.3471 - val_accuracy: 0.9494\n",
            "Epoch 272/300\n",
            "25/25 [==============================] - 0s 12ms/step - loss: 0.3801 - accuracy: 0.9337 - val_loss: 0.3752 - val_accuracy: 0.9438\n",
            "Epoch 273/300\n",
            "25/25 [==============================] - 0s 12ms/step - loss: 0.3691 - accuracy: 0.9375 - val_loss: 0.4139 - val_accuracy: 0.9382\n",
            "Epoch 274/300\n",
            "25/25 [==============================] - 0s 13ms/step - loss: 0.3792 - accuracy: 0.9362 - val_loss: 0.4118 - val_accuracy: 0.9494\n",
            "Epoch 275/300\n",
            "25/25 [==============================] - 0s 12ms/step - loss: 0.4099 - accuracy: 0.9287 - val_loss: 0.5042 - val_accuracy: 0.9326\n",
            "Epoch 276/300\n",
            "25/25 [==============================] - 0s 12ms/step - loss: 0.4287 - accuracy: 0.9137 - val_loss: 0.3899 - val_accuracy: 0.9382\n",
            "Epoch 277/300\n",
            "25/25 [==============================] - 0s 12ms/step - loss: 0.3731 - accuracy: 0.9337 - val_loss: 0.3854 - val_accuracy: 0.9438\n",
            "Epoch 278/300\n",
            "25/25 [==============================] - 0s 12ms/step - loss: 0.3882 - accuracy: 0.9200 - val_loss: 0.3912 - val_accuracy: 0.9438\n",
            "Epoch 279/300\n",
            "25/25 [==============================] - 0s 12ms/step - loss: 0.3929 - accuracy: 0.9212 - val_loss: 0.3937 - val_accuracy: 0.9551\n",
            "Epoch 280/300\n",
            "25/25 [==============================] - 0s 12ms/step - loss: 0.3979 - accuracy: 0.9187 - val_loss: 0.4047 - val_accuracy: 0.9382\n",
            "Epoch 281/300\n",
            "25/25 [==============================] - 0s 12ms/step - loss: 0.4018 - accuracy: 0.9212 - val_loss: 0.3772 - val_accuracy: 0.9326\n",
            "Epoch 282/300\n",
            "25/25 [==============================] - 0s 12ms/step - loss: 0.3933 - accuracy: 0.9175 - val_loss: 0.3731 - val_accuracy: 0.9270\n",
            "Epoch 283/300\n",
            "25/25 [==============================] - 0s 12ms/step - loss: 0.4487 - accuracy: 0.8950 - val_loss: 0.3784 - val_accuracy: 0.9382\n",
            "Epoch 284/300\n",
            "25/25 [==============================] - 0s 13ms/step - loss: 0.4128 - accuracy: 0.9175 - val_loss: 0.3389 - val_accuracy: 0.9438\n",
            "Epoch 285/300\n",
            "25/25 [==============================] - 0s 12ms/step - loss: 0.3880 - accuracy: 0.9225 - val_loss: 0.3654 - val_accuracy: 0.9382\n",
            "Epoch 286/300\n",
            "25/25 [==============================] - 0s 13ms/step - loss: 0.3935 - accuracy: 0.9237 - val_loss: 0.3081 - val_accuracy: 0.9494\n",
            "Epoch 287/300\n",
            "25/25 [==============================] - 0s 12ms/step - loss: 0.3826 - accuracy: 0.9300 - val_loss: 0.3641 - val_accuracy: 0.9438\n",
            "Epoch 288/300\n",
            "25/25 [==============================] - 0s 13ms/step - loss: 0.3956 - accuracy: 0.9200 - val_loss: 0.3234 - val_accuracy: 0.9551\n",
            "Epoch 289/300\n",
            "25/25 [==============================] - 0s 12ms/step - loss: 0.3599 - accuracy: 0.9225 - val_loss: 0.3340 - val_accuracy: 0.9607\n",
            "Epoch 290/300\n",
            "25/25 [==============================] - 0s 12ms/step - loss: 0.3854 - accuracy: 0.9175 - val_loss: 0.3706 - val_accuracy: 0.9270\n",
            "Epoch 291/300\n",
            "25/25 [==============================] - 0s 12ms/step - loss: 0.3954 - accuracy: 0.9062 - val_loss: 0.3572 - val_accuracy: 0.9382\n",
            "Epoch 292/300\n",
            "25/25 [==============================] - 0s 12ms/step - loss: 0.3934 - accuracy: 0.9150 - val_loss: 0.3519 - val_accuracy: 0.9494\n",
            "Epoch 293/300\n",
            "25/25 [==============================] - 0s 12ms/step - loss: 0.4236 - accuracy: 0.9087 - val_loss: 0.3780 - val_accuracy: 0.9382\n",
            "Epoch 294/300\n",
            "25/25 [==============================] - 0s 12ms/step - loss: 0.4196 - accuracy: 0.9013 - val_loss: 0.3718 - val_accuracy: 0.9438\n",
            "Epoch 295/300\n",
            "25/25 [==============================] - 0s 12ms/step - loss: 0.4147 - accuracy: 0.9025 - val_loss: 0.4587 - val_accuracy: 0.9382\n",
            "Epoch 296/300\n",
            "25/25 [==============================] - 0s 12ms/step - loss: 0.4240 - accuracy: 0.9038 - val_loss: 0.4561 - val_accuracy: 0.9157\n",
            "Epoch 297/300\n",
            "25/25 [==============================] - 0s 13ms/step - loss: 0.4217 - accuracy: 0.9025 - val_loss: 0.3947 - val_accuracy: 0.9326\n",
            "Epoch 298/300\n",
            "25/25 [==============================] - 0s 12ms/step - loss: 0.4304 - accuracy: 0.9013 - val_loss: 0.3603 - val_accuracy: 0.9382\n",
            "Epoch 299/300\n",
            "25/25 [==============================] - 0s 13ms/step - loss: 0.4395 - accuracy: 0.8963 - val_loss: 0.4076 - val_accuracy: 0.9213\n",
            "Epoch 300/300\n",
            "25/25 [==============================] - 0s 12ms/step - loss: 0.4152 - accuracy: 0.9025 - val_loss: 0.3620 - val_accuracy: 0.9326\n"
          ],
          "name": "stdout"
        },
        {
          "output_type": "execute_result",
          "data": {
            "text/plain": [
              "<tensorflow.python.keras.callbacks.History at 0x7f9d1f3ef7f0>"
            ]
          },
          "metadata": {
            "tags": []
          },
          "execution_count": 97
        }
      ]
    },
    {
      "cell_type": "code",
      "metadata": {
        "id": "XbRu0Kdj3rfr",
        "colab_type": "code",
        "colab": {}
      },
      "source": [
        "bn_drop_model = tf.keras.models.load_model(filepath)"
      ],
      "execution_count": null,
      "outputs": []
    },
    {
      "cell_type": "code",
      "metadata": {
        "id": "b3qD4BIn3-6w",
        "colab_type": "code",
        "colab": {
          "base_uri": "https://localhost:8080/",
          "height": 49
        },
        "outputId": "10a6b500-a2a7-46ab-b7dc-4c018dde1d45"
      },
      "source": [
        "### Evaluations\n",
        "results_1 = bn_drop_model.evaluate(train_generator, verbose=0)\n",
        "print(f\" Training \\t Loss={results_1[0]} \\t Accuracy ={results_1[1]}\")\n",
        "\n",
        "results_2 = bn_drop_model.evaluate(validation_generator , verbose=0)\n",
        "print(f\" Validation \\t Loss={results_2[0]} \\t Accuracy ={results_2[1]}\")\n"
      ],
      "execution_count": null,
      "outputs": [
        {
          "output_type": "stream",
          "text": [
            " Training \t Loss=0.17333807051181793 \t Accuracy =1.0\n",
            " Validation \t Loss=0.2028772532939911 \t Accuracy =0.9850000143051147\n"
          ],
          "name": "stdout"
        }
      ]
    },
    {
      "cell_type": "markdown",
      "metadata": {
        "id": "VtHSV63l5FNZ",
        "colab_type": "text"
      },
      "source": [
        "## For Evaluation On Test Side\n",
        "\n"
      ]
    },
    {
      "cell_type": "code",
      "metadata": {
        "id": "g7E208Ky3-sG",
        "colab_type": "code",
        "colab": {}
      },
      "source": [
        "test_dir = '' ## Insert the path of file containing the test set images\n"
      ],
      "execution_count": null,
      "outputs": []
    },
    {
      "cell_type": "code",
      "metadata": {
        "id": "m_UNE5e98s5F",
        "colab_type": "code",
        "colab": {}
      },
      "source": [
        "test_datagen_eval = ImageDataGenerator(rescale=1./255)\n",
        "test_generator_eval = test_datagen_eval.flow_from_directory(\n",
        "    test_dir,\n",
        "    target_size=(32,32), \n",
        "    color_mode='grayscale'\n",
        ")"
      ],
      "execution_count": null,
      "outputs": []
    },
    {
      "cell_type": "code",
      "metadata": {
        "id": "3_o7DX3P83hk",
        "colab_type": "code",
        "colab": {}
      },
      "source": [
        "## Load Final Model\n",
        "bn_drop_model = tf.keras.models.load_model(final_model)"
      ],
      "execution_count": null,
      "outputs": []
    },
    {
      "cell_type": "code",
      "metadata": {
        "id": "kzqz7syj9OZo",
        "colab_type": "code",
        "colab": {}
      },
      "source": [
        "## Gives Loss and Accuracy on the Actual Test Side\n",
        "results_final = bn_drop_model.evaluate(test_generator_eval, verbose=0)\n",
        "print(f\" Testing \\t Loss={results_final[0]} \\t Accuracy ={results_final[1]}\")"
      ],
      "execution_count": null,
      "outputs": []
    }
  ]
}